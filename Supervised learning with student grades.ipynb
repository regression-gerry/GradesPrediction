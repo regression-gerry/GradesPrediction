{
 "cells": [
  {
   "cell_type": "markdown",
   "metadata": {
    "Collapsed": "false"
   },
   "source": [
    "## Mathematics and Portuguese grades prediction (Supervised learning)"
   ]
  },
  {
   "cell_type": "markdown",
   "metadata": {
    "Collapsed": "false"
   },
   "source": [
    "This supervised learning problem seeks to predict a student's Mathematics (no. of students = 395) and Portuguese (no. of students = 649) final grade (G3). Two data sets are provided with the students' past performance on Mathematics (mat) and Portuguese (por). \n",
    "\n",
    "The data is collected from two schools, (1) Mousinho da Silveira and (2) Gabriel Pereira in Portugal and it consists of 32 predictors (features) of the students’ habits, particulars and parental information. \n",
    "\n",
    "The maximum grade attainable for both subjects is 20. The average final scores are 10.42 for Mathematics and 11.91 for Portuguese.  "
   ]
  },
  {
   "cell_type": "markdown",
   "metadata": {
    "Collapsed": "false"
   },
   "source": [
    "## Data prep"
   ]
  },
  {
   "cell_type": "code",
   "execution_count": 2,
   "metadata": {
    "Collapsed": "false"
   },
   "outputs": [],
   "source": [
    "#### libraries ####\n",
    "library(tidyverse) # data cleaning\n",
    "library(caret)\n",
    "library(caTools)\n",
    "library(boot) # for bootstrap\n",
    "library(leaps) # for forward, backward\n",
    "library(MASS)\n",
    "library(glmnet) # for lasso\n",
    "library(rpart) # regression tree\n",
    "library(rpart.plot) # plot tree\n",
    "library(ipred) # bagging\n",
    "library(gbm) # boosting\n",
    "library(randomForest) # random forest\n",
    "library(ggplot2) # plotting package\n",
    "library(GGally) # plots\n",
    "library(corrplot) # for correlation plot"
   ]
  },
  {
   "cell_type": "code",
   "execution_count": 3,
   "metadata": {
    "Collapsed": "false"
   },
   "outputs": [
    {
     "data": {
      "text/html": [
       "<ol class=list-inline>\n",
       "\t<li>395</li>\n",
       "\t<li>33</li>\n",
       "</ol>\n"
      ],
      "text/latex": [
       "\\begin{enumerate*}\n",
       "\\item 395\n",
       "\\item 33\n",
       "\\end{enumerate*}\n"
      ],
      "text/markdown": [
       "1. 395\n",
       "2. 33\n",
       "\n",
       "\n"
      ],
      "text/plain": [
       "[1] 395  33"
      ]
     },
     "metadata": {},
     "output_type": "display_data"
    },
    {
     "data": {
      "text/html": [
       "<ol class=list-inline>\n",
       "\t<li>649</li>\n",
       "\t<li>33</li>\n",
       "</ol>\n"
      ],
      "text/latex": [
       "\\begin{enumerate*}\n",
       "\\item 649\n",
       "\\item 33\n",
       "\\end{enumerate*}\n"
      ],
      "text/markdown": [
       "1. 649\n",
       "2. 33\n",
       "\n",
       "\n"
      ],
      "text/plain": [
       "[1] 649  33"
      ]
     },
     "metadata": {},
     "output_type": "display_data"
    }
   ],
   "source": [
    "# import student performance\n",
    "math=read.table(\"student-mat.csv\",sep=\";\",header=TRUE) # rename school1 to math\n",
    "port=read.table(\"student-por.csv\",sep=\";\",header=TRUE) # rename school2 to port\n",
    "\n",
    "dim(math)\n",
    "# [1] 395 observations  33 features\n",
    "\n",
    "dim(port)\n",
    "# [1] 649 observations 33 features"
   ]
  },
  {
   "cell_type": "markdown",
   "metadata": {
    "Collapsed": "false"
   },
   "source": [
    "## Corelation Analysis"
   ]
  },
  {
   "cell_type": "code",
   "execution_count": 5,
   "metadata": {
    "Collapsed": "false"
   },
   "outputs": [],
   "source": [
    "# convert math and port to int variables for correlation analysis\n",
    "math1 = transform(math, \n",
    "                 school=as.integer(school),\n",
    "                 sex=as.integer(sex),\n",
    "                 address=as.integer(address),\n",
    "                 famsize=as.integer(famsize),\n",
    "                 Pstatus=as.integer(Pstatus),\n",
    "                 Mjob=as.integer(Mjob),\n",
    "                 Fjob=as.integer(Fjob),\n",
    "                 reason=as.integer(reason),\n",
    "                 guardian=as.integer(guardian),\n",
    "                 schoolsup=as.integer(schoolsup),\n",
    "                 famsup=as.integer(famsup),\n",
    "                 paid=as.integer(paid),\n",
    "                 activities=as.integer(activities),\n",
    "                 nursery=as.integer(nursery),\n",
    "                 higher=as.integer(higher),\n",
    "                 internet=as.integer(internet),\n",
    "                 romantic=as.integer(romantic)\n",
    "                 )\n",
    "port1 = transform(port, \n",
    "                 school=as.integer(school),\n",
    "                 sex=as.integer(sex),\n",
    "                 address=as.integer(address),\n",
    "                 famsize=as.integer(famsize),\n",
    "                 Pstatus=as.integer(Pstatus),\n",
    "                 Mjob=as.integer(Mjob),\n",
    "                 Fjob=as.integer(Fjob),\n",
    "                 reason=as.integer(reason),\n",
    "                 guardian=as.integer(guardian),\n",
    "                 schoolsup=as.integer(schoolsup),\n",
    "                 famsup=as.integer(famsup),\n",
    "                 paid=as.integer(paid),\n",
    "                 activities=as.integer(activities),\n",
    "                 nursery=as.integer(nursery),\n",
    "                 higher=as.integer(higher),\n",
    "                 internet=as.integer(internet),\n",
    "                  romantic=as.integer(romantic)\n",
    "                 )\n",
    "\n",
    "# corr data frame\n",
    "corr = function(df){\n",
    "    a = apply(df, 2, function(col)cor(col, df$G3))\n",
    "    a = data.frame(sort(a))\n",
    "    return(a)\n",
    "}"
   ]
  },
  {
   "cell_type": "code",
   "execution_count": 7,
   "metadata": {
    "Collapsed": "false"
   },
   "outputs": [
    {
     "data": {
      "text/html": [
       "<table>\n",
       "<thead><tr><th></th><th scope=col>sort.a.</th></tr></thead>\n",
       "<tbody>\n",
       "\t<tr><th scope=row>failures</th><td>-0.36</td></tr>\n",
       "\t<tr><th scope=row>age</th><td>-0.16</td></tr>\n",
       "\t<tr><th scope=row>goout</th><td>-0.13</td></tr>\n",
       "\t<tr><th scope=row>romantic</th><td>-0.13</td></tr>\n",
       "\t<tr><th scope=row>traveltime</th><td>-0.12</td></tr>\n",
       "</tbody>\n",
       "</table>\n"
      ],
      "text/latex": [
       "\\begin{tabular}{r|l}\n",
       "  & sort.a.\\\\\n",
       "\\hline\n",
       "\tfailures & -0.36\\\\\n",
       "\tage & -0.16\\\\\n",
       "\tgoout & -0.13\\\\\n",
       "\tromantic & -0.13\\\\\n",
       "\ttraveltime & -0.12\\\\\n",
       "\\end{tabular}\n"
      ],
      "text/markdown": [
       "\n",
       "| <!--/--> | sort.a. |\n",
       "|---|---|\n",
       "| failures | -0.36 |\n",
       "| age | -0.16 |\n",
       "| goout | -0.13 |\n",
       "| romantic | -0.13 |\n",
       "| traveltime | -0.12 |\n",
       "\n"
      ],
      "text/plain": [
       "           sort.a.\n",
       "failures   -0.36  \n",
       "age        -0.16  \n",
       "goout      -0.13  \n",
       "romantic   -0.13  \n",
       "traveltime -0.12  "
      ]
     },
     "metadata": {},
     "output_type": "display_data"
    },
    {
     "data": {
      "text/html": [
       "<table>\n",
       "<thead><tr><th></th><th scope=col>sort.a.</th></tr></thead>\n",
       "<tbody>\n",
       "\t<tr><th scope=row>address</th><td>0.11</td></tr>\n",
       "\t<tr><th scope=row>reason</th><td>0.12</td></tr>\n",
       "\t<tr><th scope=row>Fedu</th><td>0.15</td></tr>\n",
       "\t<tr><th scope=row>higher</th><td>0.18</td></tr>\n",
       "\t<tr><th scope=row>Medu</th><td>0.22</td></tr>\n",
       "\t<tr><th scope=row>G1</th><td>0.80</td></tr>\n",
       "\t<tr><th scope=row>G2</th><td>0.90</td></tr>\n",
       "\t<tr><th scope=row>G3</th><td>1.00</td></tr>\n",
       "</tbody>\n",
       "</table>\n"
      ],
      "text/latex": [
       "\\begin{tabular}{r|l}\n",
       "  & sort.a.\\\\\n",
       "\\hline\n",
       "\taddress & 0.11\\\\\n",
       "\treason & 0.12\\\\\n",
       "\tFedu & 0.15\\\\\n",
       "\thigher & 0.18\\\\\n",
       "\tMedu & 0.22\\\\\n",
       "\tG1 & 0.80\\\\\n",
       "\tG2 & 0.90\\\\\n",
       "\tG3 & 1.00\\\\\n",
       "\\end{tabular}\n"
      ],
      "text/markdown": [
       "\n",
       "| <!--/--> | sort.a. |\n",
       "|---|---|\n",
       "| address | 0.11 |\n",
       "| reason | 0.12 |\n",
       "| Fedu | 0.15 |\n",
       "| higher | 0.18 |\n",
       "| Medu | 0.22 |\n",
       "| G1 | 0.80 |\n",
       "| G2 | 0.90 |\n",
       "| G3 | 1.00 |\n",
       "\n"
      ],
      "text/plain": [
       "        sort.a.\n",
       "address 0.11   \n",
       "reason  0.12   \n",
       "Fedu    0.15   \n",
       "higher  0.18   \n",
       "Medu    0.22   \n",
       "G1      0.80   \n",
       "G2      0.90   \n",
       "G3      1.00   "
      ]
     },
     "metadata": {},
     "output_type": "display_data"
    }
   ],
   "source": [
    "round(head(corr(math1), 5),2) # failures, age, goout, romantic, traveltime\n",
    "round(tail(corr(math1), 8),2) # Medu, higher, Fedu, reason, address"
   ]
  },
  {
   "cell_type": "code",
   "execution_count": 8,
   "metadata": {
    "Collapsed": "false"
   },
   "outputs": [
    {
     "data": {
      "text/html": [
       "<table>\n",
       "<thead><tr><th></th><th scope=col>sort.a.</th></tr></thead>\n",
       "<tbody>\n",
       "\t<tr><th scope=row>failures</th><td>-0.39</td></tr>\n",
       "\t<tr><th scope=row>school</th><td>-0.28</td></tr>\n",
       "\t<tr><th scope=row>Dalc</th><td>-0.20</td></tr>\n",
       "\t<tr><th scope=row>Walc</th><td>-0.18</td></tr>\n",
       "\t<tr><th scope=row>sex</th><td>-0.13</td></tr>\n",
       "</tbody>\n",
       "</table>\n"
      ],
      "text/latex": [
       "\\begin{tabular}{r|l}\n",
       "  & sort.a.\\\\\n",
       "\\hline\n",
       "\tfailures & -0.39\\\\\n",
       "\tschool & -0.28\\\\\n",
       "\tDalc & -0.20\\\\\n",
       "\tWalc & -0.18\\\\\n",
       "\tsex & -0.13\\\\\n",
       "\\end{tabular}\n"
      ],
      "text/markdown": [
       "\n",
       "| <!--/--> | sort.a. |\n",
       "|---|---|\n",
       "| failures | -0.39 |\n",
       "| school | -0.28 |\n",
       "| Dalc | -0.20 |\n",
       "| Walc | -0.18 |\n",
       "| sex | -0.13 |\n",
       "\n"
      ],
      "text/plain": [
       "         sort.a.\n",
       "failures -0.39  \n",
       "school   -0.28  \n",
       "Dalc     -0.20  \n",
       "Walc     -0.18  \n",
       "sex      -0.13  "
      ]
     },
     "metadata": {},
     "output_type": "display_data"
    },
    {
     "data": {
      "text/html": [
       "<table>\n",
       "<thead><tr><th></th><th scope=col>sort.a.</th></tr></thead>\n",
       "<tbody>\n",
       "\t<tr><th scope=row>address</th><td>0.17</td></tr>\n",
       "\t<tr><th scope=row>Fedu</th><td>0.21</td></tr>\n",
       "\t<tr><th scope=row>Medu</th><td>0.24</td></tr>\n",
       "\t<tr><th scope=row>studytime</th><td>0.25</td></tr>\n",
       "\t<tr><th scope=row>higher</th><td>0.33</td></tr>\n",
       "\t<tr><th scope=row>G1</th><td>0.83</td></tr>\n",
       "\t<tr><th scope=row>G2</th><td>0.92</td></tr>\n",
       "\t<tr><th scope=row>G3</th><td>1.00</td></tr>\n",
       "</tbody>\n",
       "</table>\n"
      ],
      "text/latex": [
       "\\begin{tabular}{r|l}\n",
       "  & sort.a.\\\\\n",
       "\\hline\n",
       "\taddress & 0.17\\\\\n",
       "\tFedu & 0.21\\\\\n",
       "\tMedu & 0.24\\\\\n",
       "\tstudytime & 0.25\\\\\n",
       "\thigher & 0.33\\\\\n",
       "\tG1 & 0.83\\\\\n",
       "\tG2 & 0.92\\\\\n",
       "\tG3 & 1.00\\\\\n",
       "\\end{tabular}\n"
      ],
      "text/markdown": [
       "\n",
       "| <!--/--> | sort.a. |\n",
       "|---|---|\n",
       "| address | 0.17 |\n",
       "| Fedu | 0.21 |\n",
       "| Medu | 0.24 |\n",
       "| studytime | 0.25 |\n",
       "| higher | 0.33 |\n",
       "| G1 | 0.83 |\n",
       "| G2 | 0.92 |\n",
       "| G3 | 1.00 |\n",
       "\n"
      ],
      "text/plain": [
       "          sort.a.\n",
       "address   0.17   \n",
       "Fedu      0.21   \n",
       "Medu      0.24   \n",
       "studytime 0.25   \n",
       "higher    0.33   \n",
       "G1        0.83   \n",
       "G2        0.92   \n",
       "G3        1.00   "
      ]
     },
     "metadata": {},
     "output_type": "display_data"
    }
   ],
   "source": [
    "round(head(corr(port1), 5),2) # failures, school, Dalc, Walc, sex\n",
    "round(tail(corr(port1), 8),2) # G1 and G2 omitted due to its high correlation to G3"
   ]
  },
  {
   "cell_type": "code",
   "execution_count": 9,
   "metadata": {
    "Collapsed": "false"
   },
   "outputs": [
    {
     "data": {
      "image/png": "[encoded data removed]",
      "text/plain": [
       "Plot with title \"\""
      ]
     },
     "metadata": {},
     "output_type": "display_data"
    }
   ],
   "source": [
    "# correlation plot for mathematics\n",
    "corrplot(cor(math1), method = \"color\")"
   ]
  },
  {
   "cell_type": "code",
   "execution_count": 10,
   "metadata": {
    "Collapsed": "false"
   },
   "outputs": [
    {
     "data": {
      "image/png": "[encoded data removed]",
      "text/plain": [
       "Plot with title \"\""
      ]
     },
     "metadata": {},
     "output_type": "display_data"
    }
   ],
   "source": [
    "# correlation plot for Portuguese\n",
    "corrplot(cor(port1), method = \"color\")"
   ]
  },
  {
   "cell_type": "markdown",
   "metadata": {
    "Collapsed": "false"
   },
   "source": [
    "## Separate analysis of Mathematics and Portuguese grades"
   ]
  },
  {
   "cell_type": "code",
   "execution_count": 11,
   "metadata": {
    "Collapsed": "false"
   },
   "outputs": [],
   "source": [
    "# remove G1, G2 strong linear correlation to G3\n",
    "math2 = within(math, rm(G1, G2)) # mathematics data set\n",
    "port2 = within(port, rm(G1, G2)) # portuguese data set"
   ]
  },
  {
   "cell_type": "code",
   "execution_count": 12,
   "metadata": {
    "Collapsed": "false"
   },
   "outputs": [],
   "source": [
    "# transform additional variables to factor\n",
    "math2 = transform(math2, # \n",
    "                  Medu=as.factor(Medu),\n",
    "                  Fedu=as.factor(Fedu),\n",
    "                  traveltime=as.factor(traveltime),\n",
    "                  studytime=as.factor(studytime),\n",
    "                  failures=as.factor(failures),\n",
    "                 famrel=as.factor(famrel),\n",
    "                 freetime=as.factor(freetime),\n",
    "                 goout=as.factor(goout),\n",
    "                 Dalc=as.factor(Dalc),\n",
    "                 Walc=as.factor(Walc),\n",
    "                 health=as.factor(health)\n",
    "                 )\n",
    "port2 = transform(port2, # convert to categorical for port\n",
    "                  Medu=as.factor(Medu),\n",
    "                  Fedu=as.factor(Fedu),\n",
    "                  traveltime=as.factor(traveltime),\n",
    "                  studytime=as.factor(studytime),\n",
    "                  failures=as.factor(failures),\n",
    "                 famrel=as.factor(famrel),\n",
    "                 freetime=as.factor(freetime),\n",
    "                 goout=as.factor(goout),\n",
    "                 Dalc=as.factor(Dalc),\n",
    "                 Walc=as.factor(Walc),\n",
    "                 health=as.factor(health)\n",
    "                 )"
   ]
  },
  {
   "cell_type": "markdown",
   "metadata": {
    "Collapsed": "false"
   },
   "source": [
    "The data set is split into a train (80%) and test (20%) set. \n",
    "\n",
    "Each model is being trained on the training set (80%) and fitted on the test set (20%). The root mean squared error (RMSE) criterion is used on the test set for evaluating each model’s predictability. "
   ]
  },
  {
   "cell_type": "code",
   "execution_count": 13,
   "metadata": {
    "Collapsed": "false"
   },
   "outputs": [],
   "source": [
    "# rmse function\n",
    "RMSE = function(error){ # rmse function\n",
    "    round(sqrt(mean(error^2)),2)\n",
    "}\n",
    "\n",
    "#### train test split ####\n",
    "train.test.list = function(df, seed, ratio){\n",
    "    set.seed(seed)\n",
    "    train = sample.split(Y=df$G3, SplitRatio=ratio)\n",
    "    trainset = subset(df, train==T)\n",
    "    testset = subset(df, train==F)\n",
    "    a = list(trainset, testset)\n",
    "    return(a)\n",
    "}\n",
    "\n",
    "# get the train or test set\n",
    "train.test = function(df, seed, i){ # 1=trainset, 2=testset\n",
    "    return(data.frame(train.test.list(df, seed, ratio=0.8)[i]))\n",
    "}\n",
    "\n",
    "# train test sets for math2    \n",
    "m.train=train.test(df=math2,seed=2020, i=1) \n",
    "m.test=train.test(df=math2,seed=2020,i=2)\n",
    "\n",
    "# train test sets for port2\n",
    "p.train=train.test(df=port2,seed=2020,i=1)\n",
    "p.test=train.test(df=port2,seed=2020,i=2)"
   ]
  },
  {
   "cell_type": "markdown",
   "metadata": {
    "Collapsed": "false"
   },
   "source": [
    "## Linear Regression"
   ]
  },
  {
   "cell_type": "code",
   "execution_count": 15,
   "metadata": {
    "Collapsed": "false"
   },
   "outputs": [],
   "source": [
    "#### linear regression on math2 and port2 ####\n",
    "lin.reg = function(train, test){\n",
    "    all = lm(G3~., data=train)\n",
    "    pred.all = predict(all, newdata=test)\n",
    "    all.test.error = RMSE(test$G3 - pred.all)\n",
    "    return(all.test.error)\n",
    "}"
   ]
  },
  {
   "cell_type": "code",
   "execution_count": 16,
   "metadata": {
    "Collapsed": "false"
   },
   "outputs": [
    {
     "data": {
      "text/html": [
       "4.73"
      ],
      "text/latex": [
       "4.73"
      ],
      "text/markdown": [
       "4.73"
      ],
      "text/plain": [
       "[1] 4.73"
      ]
     },
     "metadata": {},
     "output_type": "display_data"
    },
    {
     "data": {
      "text/html": [
       "2.91"
      ],
      "text/latex": [
       "2.91"
      ],
      "text/markdown": [
       "2.91"
      ],
      "text/plain": [
       "[1] 2.91"
      ]
     },
     "metadata": {},
     "output_type": "display_data"
    }
   ],
   "source": [
    "# Method:\n",
    "lin.reg(train=m.train, test=m.test) # math\n",
    "lin.reg(train=p.train, test=p.test) # port"
   ]
  },
  {
   "cell_type": "code",
   "execution_count": 19,
   "metadata": {
    "Collapsed": "false"
   },
   "outputs": [
    {
     "data": {
      "text/html": [
       "<dl class=dl-horizontal>\n",
       "\t<dt>Fedu2</dt>\n",
       "\t\t<dd>-7.99866241697335</dd>\n",
       "\t<dt>Fedu1</dt>\n",
       "\t\t<dd>-7.67767560780892</dd>\n",
       "\t<dt>Fedu3</dt>\n",
       "\t\t<dd>-7.56501684399736</dd>\n",
       "\t<dt>Fedu4</dt>\n",
       "\t\t<dd>-7.39506597557009</dd>\n",
       "\t<dt>failures2</dt>\n",
       "\t\t<dd>-5.12962019115953</dd>\n",
       "\t<dt>Medu1</dt>\n",
       "\t\t<dd>-4.16655151073143</dd>\n",
       "</dl>\n"
      ],
      "text/latex": [
       "\\begin{description*}\n",
       "\\item[Fedu2] -7.99866241697335\n",
       "\\item[Fedu1] -7.67767560780892\n",
       "\\item[Fedu3] -7.56501684399736\n",
       "\\item[Fedu4] -7.39506597557009\n",
       "\\item[failures2] -5.12962019115953\n",
       "\\item[Medu1] -4.16655151073143\n",
       "\\end{description*}\n"
      ],
      "text/markdown": [
       "Fedu2\n",
       ":   -7.99866241697335Fedu1\n",
       ":   -7.67767560780892Fedu3\n",
       ":   -7.56501684399736Fedu4\n",
       ":   -7.39506597557009failures2\n",
       ":   -5.12962019115953Medu1\n",
       ":   -4.16655151073143\n",
       "\n"
      ],
      "text/plain": [
       "    Fedu2     Fedu1     Fedu3     Fedu4 failures2     Medu1 \n",
       "-7.998662 -7.677676 -7.565017 -7.395066 -5.129620 -4.166552 "
      ]
     },
     "metadata": {},
     "output_type": "display_data"
    }
   ],
   "source": [
    "# get the summary for linear regression\n",
    "a = function(train){lm(G3~., data=train)}\n",
    "math.sum = sort(summary(a(m.train))$coefficients[,1])\n",
    "head(math.sum)"
   ]
  },
  {
   "cell_type": "code",
   "execution_count": 20,
   "metadata": {
    "Collapsed": "false"
   },
   "outputs": [
    {
     "data": {
      "text/html": [
       "<dl class=dl-horizontal>\n",
       "\t<dt>failures2</dt>\n",
       "\t\t<dd>-3.61022879738605</dd>\n",
       "\t<dt>Dalc4</dt>\n",
       "\t\t<dd>-3.35237078747348</dd>\n",
       "\t<dt>failures3</dt>\n",
       "\t\t<dd>-3.30683359478892</dd>\n",
       "\t<dt>failures1</dt>\n",
       "\t\t<dd>-2.40030817809408</dd>\n",
       "\t<dt>schoolMS</dt>\n",
       "\t\t<dd>-1.02847673276547</dd>\n",
       "\t<dt>health5</dt>\n",
       "\t\t<dd>-0.962626770442597</dd>\n",
       "</dl>\n"
      ],
      "text/latex": [
       "\\begin{description*}\n",
       "\\item[failures2] -3.61022879738605\n",
       "\\item[Dalc4] -3.35237078747348\n",
       "\\item[failures3] -3.30683359478892\n",
       "\\item[failures1] -2.40030817809408\n",
       "\\item[schoolMS] -1.02847673276547\n",
       "\\item[health5] -0.962626770442597\n",
       "\\end{description*}\n"
      ],
      "text/markdown": [
       "failures2\n",
       ":   -3.61022879738605Dalc4\n",
       ":   -3.35237078747348failures3\n",
       ":   -3.30683359478892failures1\n",
       ":   -2.40030817809408schoolMS\n",
       ":   -1.02847673276547health5\n",
       ":   -0.962626770442597\n",
       "\n"
      ],
      "text/plain": [
       " failures2      Dalc4  failures3  failures1   schoolMS    health5 \n",
       "-3.6102288 -3.3523708 -3.3068336 -2.4003082 -1.0284767 -0.9626268 "
      ]
     },
     "metadata": {},
     "output_type": "display_data"
    }
   ],
   "source": [
    "# Reg coefficients for portuguese\n",
    "port.sum = sort(summary(a(p.train))$coefficients[,1])\n",
    "head(port.sum)"
   ]
  },
  {
   "cell_type": "markdown",
   "metadata": {
    "Collapsed": "false"
   },
   "source": [
    "‘Fedu2’ has the largest negative impact (-7.99) while ‘freetime5’ has the most positive effect (3.02) on mathematics grade. If the student’s father’s education is only from 5th to 9th grade, the student’s predicted grade falls by 7.99, if the other predictors are unchanged.\n",
    "\n",
    "The lowest estimated regression coefficient for Portuguese grades is ‘failures2’ with -3.61 while the highest is ‘higheryes’ with its regression coefficient of 1.57. A student who intends to pursue higher education (higheryes) does affect Portuguese grades positively. \n"
   ]
  },
  {
   "cell_type": "markdown",
   "metadata": {
    "Collapsed": "false"
   },
   "source": [
    "## Stepwise Regression\n",
    "\n",
    "Due to a large number of predictors used in linear regression, the stepwise method identifies the best model by varying with the number of predictors used. The best model has the least root mean squared error (RMSE).  \n",
    "\n",
    "Forward: The first regression begins with no predictors and it iteratively adds the next predictor until all predictors are included in the final regression model.\n",
    "\n",
    "Backwards: The first regression starts with all predictors and the least useful predictor is removed at each step.\n"
   ]
  },
  {
   "cell_type": "code",
   "execution_count": 22,
   "metadata": {
    "Collapsed": "false"
   },
   "outputs": [],
   "source": [
    "#### Stepwise regression (Forward and backward selection) ####\n",
    "stepwise = function(train, test, method){\n",
    "    slt = regsubsets(G3~., data=train,  # slt = select\n",
    "                     nvmax=30, method=method)\n",
    "    return(slt)\n",
    "}\n",
    "# Method\n",
    "# stepwise(train=m.train, test=m.test, method='forward')\n",
    "# stepwise(train=m.train, test=m.test, method='backward')\n",
    "\n",
    "# stepwise(train=p.train, test=p.test, method='forward')\n",
    "# stepwise(train=p.train, test=p.test, method='backward')"
   ]
  },
  {
   "cell_type": "code",
   "execution_count": 23,
   "metadata": {
    "Collapsed": "false"
   },
   "outputs": [],
   "source": [
    "# all test errors from stepwise regression\n",
    "step.test = function(test, slt){    \n",
    "    # run through all the models from predictors = 1 to 30\n",
    "    testset.mat = model.matrix(G3~., data=test)\n",
    "    # testset errors for all models\n",
    "    testset.err = rep(NA, 30) \n",
    "    for (i in 1:30) {\n",
    "        coeff = coef(slt, id = i)\n",
    "        pred = testset.mat[, names(coeff)] %*% coeff\n",
    "        testset.err[i] = RMSE(test$G3 - pred)\n",
    "    }\n",
    "    return(testset.err)\n",
    "}"
   ]
  },
  {
   "cell_type": "code",
   "execution_count": 24,
   "metadata": {
    "Collapsed": "false"
   },
   "outputs": [
    {
     "data": {
      "text/html": [
       "<dl class=dl-horizontal>\n",
       "\t<dt>failures2</dt>\n",
       "\t\t<dd>-5.38900570825833</dd>\n",
       "\t<dt>failures3</dt>\n",
       "\t\t<dd>-3.93425958337959</dd>\n",
       "\t<dt>failures1</dt>\n",
       "\t\t<dd>-3.70027584760561</dd>\n",
       "\t<dt>goout5</dt>\n",
       "\t\t<dd>-1.58682063012557</dd>\n",
       "\t<dt>schoolsupyes</dt>\n",
       "\t\t<dd>-1.48503346972558</dd>\n",
       "\t<dt>Dalc2</dt>\n",
       "\t\t<dd>-1.17310408571402</dd>\n",
       "\t<dt>romanticyes</dt>\n",
       "\t\t<dd>-1.14084149795258</dd>\n",
       "\t<dt>freetime3</dt>\n",
       "\t\t<dd>-0.806699125398768</dd>\n",
       "\t<dt>age</dt>\n",
       "\t\t<dd>-0.286419162728306</dd>\n",
       "\t<dt>absences</dt>\n",
       "\t\t<dd>0.0950043482113601</dd>\n",
       "\t<dt>Medu4</dt>\n",
       "\t\t<dd>0.770113493865886</dd>\n",
       "\t<dt>famsizeLE3</dt>\n",
       "\t\t<dd>1.03037286417971</dd>\n",
       "\t<dt>reasonreputation</dt>\n",
       "\t\t<dd>1.03217869200886</dd>\n",
       "\t<dt>sexM</dt>\n",
       "\t\t<dd>1.08153154075541</dd>\n",
       "\t<dt>Mjobhealth</dt>\n",
       "\t\t<dd>1.11160836826932</dd>\n",
       "\t<dt>studytime3</dt>\n",
       "\t\t<dd>1.27021464079841</dd>\n",
       "\t<dt>Mjobservices</dt>\n",
       "\t\t<dd>1.29642485984383</dd>\n",
       "\t<dt>freetime5</dt>\n",
       "\t\t<dd>1.34025310612106</dd>\n",
       "\t<dt>(Intercept)</dt>\n",
       "\t\t<dd>14.709472232455</dd>\n",
       "</dl>\n"
      ],
      "text/latex": [
       "\\begin{description*}\n",
       "\\item[failures2] -5.38900570825833\n",
       "\\item[failures3] -3.93425958337959\n",
       "\\item[failures1] -3.70027584760561\n",
       "\\item[goout5] -1.58682063012557\n",
       "\\item[schoolsupyes] -1.48503346972558\n",
       "\\item[Dalc2] -1.17310408571402\n",
       "\\item[romanticyes] -1.14084149795258\n",
       "\\item[freetime3] -0.806699125398768\n",
       "\\item[age] -0.286419162728306\n",
       "\\item[absences] 0.0950043482113601\n",
       "\\item[Medu4] 0.770113493865886\n",
       "\\item[famsizeLE3] 1.03037286417971\n",
       "\\item[reasonreputation] 1.03217869200886\n",
       "\\item[sexM] 1.08153154075541\n",
       "\\item[Mjobhealth] 1.11160836826932\n",
       "\\item[studytime3] 1.27021464079841\n",
       "\\item[Mjobservices] 1.29642485984383\n",
       "\\item[freetime5] 1.34025310612106\n",
       "\\item[(Intercept)] 14.709472232455\n",
       "\\end{description*}\n"
      ],
      "text/markdown": [
       "failures2\n",
       ":   -5.38900570825833failures3\n",
       ":   -3.93425958337959failures1\n",
       ":   -3.70027584760561goout5\n",
       ":   -1.58682063012557schoolsupyes\n",
       ":   -1.48503346972558Dalc2\n",
       ":   -1.17310408571402romanticyes\n",
       ":   -1.14084149795258freetime3\n",
       ":   -0.806699125398768age\n",
       ":   -0.286419162728306absences\n",
       ":   0.0950043482113601Medu4\n",
       ":   0.770113493865886famsizeLE3\n",
       ":   1.03037286417971reasonreputation\n",
       ":   1.03217869200886sexM\n",
       ":   1.08153154075541Mjobhealth\n",
       ":   1.11160836826932studytime3\n",
       ":   1.27021464079841Mjobservices\n",
       ":   1.29642485984383freetime5\n",
       ":   1.34025310612106(Intercept)\n",
       ":   14.709472232455\n",
       "\n"
      ],
      "text/plain": [
       "       failures2        failures3        failures1           goout5 \n",
       "     -5.38900571      -3.93425958      -3.70027585      -1.58682063 \n",
       "    schoolsupyes            Dalc2      romanticyes        freetime3 \n",
       "     -1.48503347      -1.17310409      -1.14084150      -0.80669913 \n",
       "             age         absences            Medu4       famsizeLE3 \n",
       "     -0.28641916       0.09500435       0.77011349       1.03037286 \n",
       "reasonreputation             sexM       Mjobhealth       studytime3 \n",
       "      1.03217869       1.08153154       1.11160837       1.27021464 \n",
       "    Mjobservices        freetime5      (Intercept) \n",
       "      1.29642486       1.34025311      14.70947223 "
      ]
     },
     "metadata": {},
     "output_type": "display_data"
    }
   ],
   "source": [
    "# stepwise best model with p predictors from min rmse\n",
    "step.best.model = function(slt, step.test){\n",
    "    no.p=which.min(step.test)\n",
    "    coef(slt, no.p) # returns coeff of optimal number of predictors\n",
    "}\n",
    "# Method\n",
    "# Math forward stepwise coefficients\n",
    "sort(step.best.model(slt=stepwise(m.train, m.test, \"forward\"), \n",
    "step.test=step.test(m.test, stepwise(m.train, m.test, \"forward\"))))"
   ]
  },
  {
   "cell_type": "code",
   "execution_count": 25,
   "metadata": {
    "Collapsed": "false"
   },
   "outputs": [
    {
     "data": {
      "text/html": [
       "<dl class=dl-horizontal>\n",
       "\t<dt>failures2</dt>\n",
       "\t\t<dd>-5.39867075082597</dd>\n",
       "\t<dt>failures3</dt>\n",
       "\t\t<dd>-4.93647882897663</dd>\n",
       "\t<dt>failures1</dt>\n",
       "\t\t<dd>-3.95708362928161</dd>\n",
       "\t<dt>goout5</dt>\n",
       "\t\t<dd>-1.43709417391275</dd>\n",
       "\t<dt>Dalc2</dt>\n",
       "\t\t<dd>-1.18318512054269</dd>\n",
       "\t<dt>romanticyes</dt>\n",
       "\t\t<dd>-1.07467911156753</dd>\n",
       "\t<dt>absences</dt>\n",
       "\t\t<dd>0.0917788138693135</dd>\n",
       "\t<dt>freetime2</dt>\n",
       "\t\t<dd>0.955466949486717</dd>\n",
       "\t<dt>famsizeLE3</dt>\n",
       "\t\t<dd>1.04165555686512</dd>\n",
       "\t<dt>Mjobservices</dt>\n",
       "\t\t<dd>1.31218747318607</dd>\n",
       "\t<dt>sexM</dt>\n",
       "\t\t<dd>1.35308971330088</dd>\n",
       "\t<dt>studytime3</dt>\n",
       "\t\t<dd>1.37866842728579</dd>\n",
       "\t<dt>freetime5</dt>\n",
       "\t\t<dd>1.76696977488285</dd>\n",
       "\t<dt>Mjobhealth</dt>\n",
       "\t\t<dd>1.96745824592719</dd>\n",
       "\t<dt>(Intercept)</dt>\n",
       "\t\t<dd>9.5544198400049</dd>\n",
       "</dl>\n"
      ],
      "text/latex": [
       "\\begin{description*}\n",
       "\\item[failures2] -5.39867075082597\n",
       "\\item[failures3] -4.93647882897663\n",
       "\\item[failures1] -3.95708362928161\n",
       "\\item[goout5] -1.43709417391275\n",
       "\\item[Dalc2] -1.18318512054269\n",
       "\\item[romanticyes] -1.07467911156753\n",
       "\\item[absences] 0.0917788138693135\n",
       "\\item[freetime2] 0.955466949486717\n",
       "\\item[famsizeLE3] 1.04165555686512\n",
       "\\item[Mjobservices] 1.31218747318607\n",
       "\\item[sexM] 1.35308971330088\n",
       "\\item[studytime3] 1.37866842728579\n",
       "\\item[freetime5] 1.76696977488285\n",
       "\\item[Mjobhealth] 1.96745824592719\n",
       "\\item[(Intercept)] 9.5544198400049\n",
       "\\end{description*}\n"
      ],
      "text/markdown": [
       "failures2\n",
       ":   -5.39867075082597failures3\n",
       ":   -4.93647882897663failures1\n",
       ":   -3.95708362928161goout5\n",
       ":   -1.43709417391275Dalc2\n",
       ":   -1.18318512054269romanticyes\n",
       ":   -1.07467911156753absences\n",
       ":   0.0917788138693135freetime2\n",
       ":   0.955466949486717famsizeLE3\n",
       ":   1.04165555686512Mjobservices\n",
       ":   1.31218747318607sexM\n",
       ":   1.35308971330088studytime3\n",
       ":   1.37866842728579freetime5\n",
       ":   1.76696977488285Mjobhealth\n",
       ":   1.96745824592719(Intercept)\n",
       ":   9.5544198400049\n",
       "\n"
      ],
      "text/plain": [
       "   failures2    failures3    failures1       goout5        Dalc2  romanticyes \n",
       " -5.39867075  -4.93647883  -3.95708363  -1.43709417  -1.18318512  -1.07467911 \n",
       "    absences    freetime2   famsizeLE3 Mjobservices         sexM   studytime3 \n",
       "  0.09177881   0.95546695   1.04165556   1.31218747   1.35308971   1.37866843 \n",
       "   freetime5   Mjobhealth  (Intercept) \n",
       "  1.76696977   1.96745825   9.55441984 "
      ]
     },
     "metadata": {},
     "output_type": "display_data"
    }
   ],
   "source": [
    "# Math backward stepwise coefficients\n",
    "sort(step.best.model(slt=stepwise(m.train, m.test, \"backward\"), \n",
    "step.test=step.test(m.test, stepwise(m.train, m.test, \"backward\"))))"
   ]
  },
  {
   "cell_type": "markdown",
   "metadata": {
    "Collapsed": "false"
   },
   "source": [
    "‘failure2’ which indicates if the student failed twice has the largest negative effect on mathematics grade. \n",
    "\n",
    "Being a student who failed twice will reduce G3 by 5.39 if the other predictors are unchanged. The predictors that exert a positive effect on Mathematics grade are the student’s mother’s job (Mjob, particularly in healthcare or service), the amount of time spent on studying (studytime) and free time (freetime). "
   ]
  },
  {
   "cell_type": "code",
   "execution_count": 26,
   "metadata": {
    "Collapsed": "false"
   },
   "outputs": [
    {
     "data": {
      "text/html": [
       "<dl class=dl-horizontal>\n",
       "\t<dt>failures1</dt>\n",
       "\t\t<dd>-2.68527538456817</dd>\n",
       "\t<dt>schoolMS</dt>\n",
       "\t\t<dd>-1.33885492033567</dd>\n",
       "\t<dt>higheryes</dt>\n",
       "\t\t<dd>2.63234094912567</dd>\n",
       "\t<dt>(Intercept)</dt>\n",
       "\t\t<dd>10.3248182664247</dd>\n",
       "</dl>\n"
      ],
      "text/latex": [
       "\\begin{description*}\n",
       "\\item[failures1] -2.68527538456817\n",
       "\\item[schoolMS] -1.33885492033567\n",
       "\\item[higheryes] 2.63234094912567\n",
       "\\item[(Intercept)] 10.3248182664247\n",
       "\\end{description*}\n"
      ],
      "text/markdown": [
       "failures1\n",
       ":   -2.68527538456817schoolMS\n",
       ":   -1.33885492033567higheryes\n",
       ":   2.63234094912567(Intercept)\n",
       ":   10.3248182664247\n",
       "\n"
      ],
      "text/plain": [
       "  failures1    schoolMS   higheryes (Intercept) \n",
       "  -2.685275   -1.338855    2.632341   10.324818 "
      ]
     },
     "metadata": {},
     "output_type": "display_data"
    }
   ],
   "source": [
    "# Port forward stepwise coefficients\n",
    "sort(step.best.model(slt=stepwise(p.train, p.test, \"forward\"), \n",
    "step.test=step.test(p.test, stepwise(p.train, p.test, \"forward\"))))"
   ]
  },
  {
   "cell_type": "code",
   "execution_count": 27,
   "metadata": {
    "Collapsed": "false"
   },
   "outputs": [
    {
     "data": {
      "text/html": [
       "<dl class=dl-horizontal>\n",
       "\t<dt>failures3</dt>\n",
       "\t\t<dd>-3.05344247136345</dd>\n",
       "\t<dt>failures2</dt>\n",
       "\t\t<dd>-3.03125492299739</dd>\n",
       "\t<dt>Dalc4</dt>\n",
       "\t\t<dd>-3.00223161881743</dd>\n",
       "\t<dt>failures1</dt>\n",
       "\t\t<dd>-2.4888142513063</dd>\n",
       "\t<dt>schoolMS</dt>\n",
       "\t\t<dd>-1.4326163031366</dd>\n",
       "\t<dt>schoolsupyes</dt>\n",
       "\t\t<dd>-1.24284092647754</dd>\n",
       "\t<dt>sexM</dt>\n",
       "\t\t<dd>-0.817045417189497</dd>\n",
       "\t<dt>health5</dt>\n",
       "\t\t<dd>-0.629996719123281</dd>\n",
       "\t<dt>Medu4</dt>\n",
       "\t\t<dd>0.715126457361206</dd>\n",
       "\t<dt>famrel4</dt>\n",
       "\t\t<dd>0.733715939649492</dd>\n",
       "\t<dt>higheryes</dt>\n",
       "\t\t<dd>1.94518823856025</dd>\n",
       "\t<dt>(Intercept)</dt>\n",
       "\t\t<dd>11.3267027151212</dd>\n",
       "</dl>\n"
      ],
      "text/latex": [
       "\\begin{description*}\n",
       "\\item[failures3] -3.05344247136345\n",
       "\\item[failures2] -3.03125492299739\n",
       "\\item[Dalc4] -3.00223161881743\n",
       "\\item[failures1] -2.4888142513063\n",
       "\\item[schoolMS] -1.4326163031366\n",
       "\\item[schoolsupyes] -1.24284092647754\n",
       "\\item[sexM] -0.817045417189497\n",
       "\\item[health5] -0.629996719123281\n",
       "\\item[Medu4] 0.715126457361206\n",
       "\\item[famrel4] 0.733715939649492\n",
       "\\item[higheryes] 1.94518823856025\n",
       "\\item[(Intercept)] 11.3267027151212\n",
       "\\end{description*}\n"
      ],
      "text/markdown": [
       "failures3\n",
       ":   -3.05344247136345failures2\n",
       ":   -3.03125492299739Dalc4\n",
       ":   -3.00223161881743failures1\n",
       ":   -2.4888142513063schoolMS\n",
       ":   -1.4326163031366schoolsupyes\n",
       ":   -1.24284092647754sexM\n",
       ":   -0.817045417189497health5\n",
       ":   -0.629996719123281Medu4\n",
       ":   0.715126457361206famrel4\n",
       ":   0.733715939649492higheryes\n",
       ":   1.94518823856025(Intercept)\n",
       ":   11.3267027151212\n",
       "\n"
      ],
      "text/plain": [
       "   failures3    failures2        Dalc4    failures1     schoolMS schoolsupyes \n",
       "  -3.0534425   -3.0312549   -3.0022316   -2.4888143   -1.4326163   -1.2428409 \n",
       "        sexM      health5        Medu4      famrel4    higheryes  (Intercept) \n",
       "  -0.8170454   -0.6299967    0.7151265    0.7337159    1.9451882   11.3267027 "
      ]
     },
     "metadata": {},
     "output_type": "display_data"
    }
   ],
   "source": [
    "# Port backward stepwise coefficients\n",
    "sort(step.best.model(slt=stepwise(p.train, p.test, \"backward\"), \n",
    "step.test=step.test(p.test, stepwise(p.train, p.test, \"backward\"))))"
   ]
  },
  {
   "cell_type": "code",
   "execution_count": 30,
   "metadata": {
    "Collapsed": "false"
   },
   "outputs": [
    {
     "data": {
      "text/html": [
       "4.47"
      ],
      "text/latex": [
       "4.47"
      ],
      "text/markdown": [
       "4.47"
      ],
      "text/plain": [
       "[1] 4.47"
      ]
     },
     "metadata": {},
     "output_type": "display_data"
    },
    {
     "data": {
      "text/html": [
       "4.38"
      ],
      "text/latex": [
       "4.38"
      ],
      "text/markdown": [
       "4.38"
      ],
      "text/plain": [
       "[1] 4.38"
      ]
     },
     "metadata": {},
     "output_type": "display_data"
    },
    {
     "data": {
      "text/html": [
       "2.77"
      ],
      "text/latex": [
       "2.77"
      ],
      "text/markdown": [
       "2.77"
      ],
      "text/plain": [
       "[1] 2.77"
      ]
     },
     "metadata": {},
     "output_type": "display_data"
    },
    {
     "data": {
      "text/html": [
       "2.74"
      ],
      "text/latex": [
       "2.74"
      ],
      "text/markdown": [
       "2.74"
      ],
      "text/plain": [
       "[1] 2.74"
      ]
     },
     "metadata": {},
     "output_type": "display_data"
    }
   ],
   "source": [
    "# min test set error\n",
    "step.min.test = function(step.test=step.test){\n",
    "    min(step.test) # get the best testset error\n",
    "}\n",
    "\n",
    "# Method\n",
    "step.min.test(step.test=step.test(m.test, stepwise(train=m.train, test=m.test, method='forward')))\n",
    "# 4.47\n",
    "\n",
    "step.min.test(step.test=step.test(m.test, stepwise(train=m.train, test=m.test, method='backward')))\n",
    "# 4.38\n",
    "\n",
    "step.min.test(step.test=step.test(p.test, stepwise(train=p.train, test=p.test, method='forward')))\n",
    "# 2.77\n",
    "\n",
    "step.min.test(step.test=step.test(p.test, stepwise(train=p.train, test=p.test, method='backward')))\n",
    "# 2.74"
   ]
  },
  {
   "cell_type": "markdown",
   "metadata": {
    "Collapsed": "false"
   },
   "source": [
    "The forward stepwise model for Portuguese grades has only 3 predictors in the regression. Weekday alcohol consumption affects Portuguese grades negatively as uncovered by the backwards stepwise model. There are more predictors involved that affect the Mathematics grade as compared to Portuguese Grade. \n",
    "\n",
    "\n",
    "‘failures’ for both subjects affect the final grade G3 adversely. There is a bias for ‘failures’ as the estimated coefficient has a larger magnitude than the other predictors."
   ]
  },
  {
   "cell_type": "markdown",
   "metadata": {
    "Collapsed": "false"
   },
   "source": [
    "## Regularization\n",
    "\n",
    "Do parents’ education and job affect a student’s grade? \n",
    "\n",
    "Shrinkage methods aid in shrinking the estimated coefficients towards zero. The Lasso and Ridge regressions discourage large coefficients attached to the predictors. The sum of squared difference between the actual and predicted values (RSS) is penalised such that the estimated coefficients get smaller with some eventually to zero. \n",
    "\n",
    "The Lasso regression can force some estimated coefficients to be exactly zero and it performs variable selection. The model becomes more interpretable with lesser predictors used. A smaller RMSE is obtained as well. \n"
   ]
  },
  {
   "cell_type": "code",
   "execution_count": 32,
   "metadata": {
    "Collapsed": "false"
   },
   "outputs": [],
   "source": [
    "#### Lasso(L1 norm) and Ridge Regression (L2 norm) ####\n",
    "regularizer = function(train, test, alpha){\n",
    "    x.train.m = data.matrix(train[1:30]) # all the other predictors\n",
    "    y.train.m = data.matrix(train[31:31]) #G3\n",
    "    x.test.m = data.matrix(test[1:30]) # all the other predictors\n",
    "    y.test.m = data.matrix(test[31:31]) #G3\n",
    "\n",
    "    #lasso or ridge regression; alpha=1(lasso), 0(ridge)\n",
    "    grid=10^seq(10,-2,length=100)\n",
    "    regularizer=glmnet(x.train.m, \n",
    "                       y.train.m, \n",
    "                       alpha=alpha, lambda=grid) \n",
    "    \n",
    "\n",
    "    # use cross validation to get the best lambda\n",
    "    cv.out=cv.glmnet(x.train.m,y.train.m,alpha=alpha)\n",
    "    bestlam=cv.out$lambda.min\n",
    "    \n",
    "    # predict with best lambda on testset\n",
    "    pred=predict(regularizer,s=bestlam,newx=x.test.m)\n",
    "    rmse=RMSE(y.test.m - pred)\n",
    "    return(c(rmse, bestlam)) # rmse and best lambda values\n",
    "}"
   ]
  },
  {
   "cell_type": "code",
   "execution_count": 33,
   "metadata": {
    "Collapsed": "false"
   },
   "outputs": [
    {
     "data": {
      "text/html": [
       "4.5"
      ],
      "text/latex": [
       "4.5"
      ],
      "text/markdown": [
       "4.5"
      ],
      "text/plain": [
       "[1] 4.5"
      ]
     },
     "metadata": {},
     "output_type": "display_data"
    },
    {
     "data": {
      "text/html": [
       "4.42"
      ],
      "text/latex": [
       "4.42"
      ],
      "text/markdown": [
       "4.42"
      ],
      "text/plain": [
       "[1] 4.42"
      ]
     },
     "metadata": {},
     "output_type": "display_data"
    },
    {
     "data": {
      "text/html": [
       "2.77"
      ],
      "text/latex": [
       "2.77"
      ],
      "text/markdown": [
       "2.77"
      ],
      "text/plain": [
       "[1] 2.77"
      ]
     },
     "metadata": {},
     "output_type": "display_data"
    },
    {
     "data": {
      "text/html": [
       "2.77"
      ],
      "text/latex": [
       "2.77"
      ],
      "text/markdown": [
       "2.77"
      ],
      "text/plain": [
       "[1] 2.77"
      ]
     },
     "metadata": {},
     "output_type": "display_data"
    }
   ],
   "source": [
    "# Methods\n",
    "# RMSE for Lasso and ridge\n",
    "regularizer(train=m.train, test=m.test, alpha=1)[1] #LASSO for port\n",
    "# 4.51\n",
    "\n",
    "regularizer(train=m.train, test=m.test, alpha=0)[1]\n",
    "# 4.42\n",
    "\n",
    "regularizer(train=p.train, test=p.test, alpha=1)[1] #LASSO for port\n",
    "# 2.77\n",
    "\n",
    "regularizer(train=p.train, test=p.test, alpha=0)[1]\n",
    "# 2.78"
   ]
  },
  {
   "cell_type": "code",
   "execution_count": 34,
   "metadata": {
    "Collapsed": "false"
   },
   "outputs": [],
   "source": [
    "bestlam.m = regularizer(train=m.train, test=m.test, alpha=1)[2] # best lambda for math\n",
    "bestlam.p = regularizer(train=p.train, test=p.test, alpha=1)[2] # best lambda for port"
   ]
  },
  {
   "cell_type": "code",
   "execution_count": 35,
   "metadata": {
    "Collapsed": "false"
   },
   "outputs": [],
   "source": [
    "# regression coefficients for ridge or lasso\n",
    "regularizer.coef = function(df, alpha, bestlam){ # on entire df \n",
    "    # get the best coefficients \n",
    "    grid=10^seq(10,-2,length=100)\n",
    "    x=model.matrix(G3~.,df)[,-1]\n",
    "    y=df$G3\n",
    "    out=glmnet(x,y,alpha=alpha,lambda=grid)\n",
    "    regularizer_coef=predict(out,type=\"coefficients\",s=bestlam)[1:30,] \n",
    "    if (alpha==1){\n",
    "        regularizer_coef[regularizer_coef!= 0] # for lasso \n",
    "    } else {\n",
    "        return(regularizer_coef) # for ridge\n",
    "    }\n",
    "}"
   ]
  },
  {
   "cell_type": "code",
   "execution_count": 37,
   "metadata": {
    "Collapsed": "false"
   },
   "outputs": [
    {
     "data": {
      "text/html": [
       "<dl class=dl-horizontal>\n",
       "\t<dt>Medu1</dt>\n",
       "\t\t<dd>-0.3062210878766</dd>\n",
       "\t<dt>Medu2</dt>\n",
       "\t\t<dd>-0.245860875305624</dd>\n",
       "\t<dt>traveltime2</dt>\n",
       "\t\t<dd>-0.194304951584865</dd>\n",
       "\t<dt>age</dt>\n",
       "\t\t<dd>-0.127992374780188</dd>\n",
       "\t<dt>Mjobteacher</dt>\n",
       "\t\t<dd>-0.096806386065822</dd>\n",
       "\t<dt>PstatusT</dt>\n",
       "\t\t<dd>-0.0313735956331114</dd>\n",
       "\t<dt>Fjobhealth</dt>\n",
       "\t\t<dd>0.00748900135949008</dd>\n",
       "\t<dt>addressU</dt>\n",
       "\t\t<dd>0.318851654803732</dd>\n",
       "\t<dt>Fjobteacher</dt>\n",
       "\t\t<dd>0.368962434418781</dd>\n",
       "\t<dt>reasonother</dt>\n",
       "\t\t<dd>0.458017943601583</dd>\n",
       "\t<dt>reasonreputation</dt>\n",
       "\t\t<dd>0.465794303908355</dd>\n",
       "\t<dt>famsizeLE3</dt>\n",
       "\t\t<dd>0.511950928715245</dd>\n",
       "\t<dt>Medu4</dt>\n",
       "\t\t<dd>0.59985317870049</dd>\n",
       "\t<dt>Mjobhealth</dt>\n",
       "\t\t<dd>0.633476797338281</dd>\n",
       "\t<dt>sexM</dt>\n",
       "\t\t<dd>0.644890961716721</dd>\n",
       "\t<dt>Mjobservices</dt>\n",
       "\t\t<dd>0.758695387835315</dd>\n",
       "\t<dt>(Intercept)</dt>\n",
       "\t\t<dd>11.2121955932957</dd>\n",
       "</dl>\n"
      ],
      "text/latex": [
       "\\begin{description*}\n",
       "\\item[Medu1] -0.3062210878766\n",
       "\\item[Medu2] -0.245860875305624\n",
       "\\item[traveltime2] -0.194304951584865\n",
       "\\item[age] -0.127992374780188\n",
       "\\item[Mjobteacher] -0.096806386065822\n",
       "\\item[PstatusT] -0.0313735956331114\n",
       "\\item[Fjobhealth] 0.00748900135949008\n",
       "\\item[addressU] 0.318851654803732\n",
       "\\item[Fjobteacher] 0.368962434418781\n",
       "\\item[reasonother] 0.458017943601583\n",
       "\\item[reasonreputation] 0.465794303908355\n",
       "\\item[famsizeLE3] 0.511950928715245\n",
       "\\item[Medu4] 0.59985317870049\n",
       "\\item[Mjobhealth] 0.633476797338281\n",
       "\\item[sexM] 0.644890961716721\n",
       "\\item[Mjobservices] 0.758695387835315\n",
       "\\item[(Intercept)] 11.2121955932957\n",
       "\\end{description*}\n"
      ],
      "text/markdown": [
       "Medu1\n",
       ":   -0.3062210878766Medu2\n",
       ":   -0.245860875305624traveltime2\n",
       ":   -0.194304951584865age\n",
       ":   -0.127992374780188Mjobteacher\n",
       ":   -0.096806386065822PstatusT\n",
       ":   -0.0313735956331114Fjobhealth\n",
       ":   0.00748900135949008addressU\n",
       ":   0.318851654803732Fjobteacher\n",
       ":   0.368962434418781reasonother\n",
       ":   0.458017943601583reasonreputation\n",
       ":   0.465794303908355famsizeLE3\n",
       ":   0.511950928715245Medu4\n",
       ":   0.59985317870049Mjobhealth\n",
       ":   0.633476797338281sexM\n",
       ":   0.644890961716721Mjobservices\n",
       ":   0.758695387835315(Intercept)\n",
       ":   11.2121955932957\n",
       "\n"
      ],
      "text/plain": [
       "           Medu1            Medu2      traveltime2              age \n",
       "    -0.306221088     -0.245860875     -0.194304952     -0.127992375 \n",
       "     Mjobteacher         PstatusT       Fjobhealth         addressU \n",
       "    -0.096806386     -0.031373596      0.007489001      0.318851655 \n",
       "     Fjobteacher      reasonother reasonreputation       famsizeLE3 \n",
       "     0.368962434      0.458017944      0.465794304      0.511950929 \n",
       "           Medu4       Mjobhealth             sexM     Mjobservices \n",
       "     0.599853179      0.633476797      0.644890962      0.758695388 \n",
       "     (Intercept) \n",
       "    11.212195593 "
      ]
     },
     "metadata": {},
     "output_type": "display_data"
    }
   ],
   "source": [
    "sort(regularizer.coef(df=math2, alpha=1, bestlam=bestlam.m)) # lasso on math"
   ]
  },
  {
   "cell_type": "code",
   "execution_count": 38,
   "metadata": {
    "Collapsed": "false"
   },
   "outputs": [
    {
     "data": {
      "text/html": [
       "<dl class=dl-horizontal>\n",
       "\t<dt>Medu1</dt>\n",
       "\t\t<dd>-1.63919489802227</dd>\n",
       "\t<dt>Mjobteacher</dt>\n",
       "\t\t<dd>-1.62803608980884</dd>\n",
       "\t<dt>Medu2</dt>\n",
       "\t\t<dd>-1.23383574778962</dd>\n",
       "\t<dt>Medu3</dt>\n",
       "\t\t<dd>-0.802729475544774</dd>\n",
       "\t<dt>traveltime2</dt>\n",
       "\t\t<dd>-0.502178575309148</dd>\n",
       "\t<dt>Fedu2</dt>\n",
       "\t\t<dd>-0.442664750275889</dd>\n",
       "\t<dt>Mjobother</dt>\n",
       "\t\t<dd>-0.385706139782214</dd>\n",
       "\t<dt>Fedu3</dt>\n",
       "\t\t<dd>-0.354280051144425</dd>\n",
       "\t<dt>age</dt>\n",
       "\t\t<dd>-0.310205501984238</dd>\n",
       "\t<dt>Fedu4</dt>\n",
       "\t\t<dd>-0.307159681444247</dd>\n",
       "\t<dt>Fjobother</dt>\n",
       "\t\t<dd>-0.239910643605706</dd>\n",
       "\t<dt>guardianmother</dt>\n",
       "\t\t<dd>-0.228737102991109</dd>\n",
       "\t<dt>Fjobservices</dt>\n",
       "\t\t<dd>-0.176299236069733</dd>\n",
       "\t<dt>PstatusT</dt>\n",
       "\t\t<dd>-0.14901644827457</dd>\n",
       "\t<dt>Fedu1</dt>\n",
       "\t\t<dd>-0.0311988294801804</dd>\n",
       "\t<dt>reasonhome</dt>\n",
       "\t\t<dd>0.216328059501793</dd>\n",
       "\t<dt>Medu4</dt>\n",
       "\t\t<dd>0.254577161486018</dd>\n",
       "\t<dt>Mjobhealth</dt>\n",
       "\t\t<dd>0.27205628568717</dd>\n",
       "\t<dt>traveltime3</dt>\n",
       "\t\t<dd>0.28592538792152</dd>\n",
       "\t<dt>Fjobhealth</dt>\n",
       "\t\t<dd>0.39760015323728</dd>\n",
       "\t<dt>schoolMS</dt>\n",
       "\t\t<dd>0.47944586638505</dd>\n",
       "\t<dt>addressU</dt>\n",
       "\t\t<dd>0.487516788204248</dd>\n",
       "\t<dt>guardianother</dt>\n",
       "\t\t<dd>0.522498820705328</dd>\n",
       "\t<dt>Mjobservices</dt>\n",
       "\t\t<dd>0.58808654193003</dd>\n",
       "\t<dt>reasonreputation</dt>\n",
       "\t\t<dd>0.775003420840747</dd>\n",
       "\t<dt>famsizeLE3</dt>\n",
       "\t\t<dd>0.926341734486408</dd>\n",
       "\t<dt>reasonother</dt>\n",
       "\t\t<dd>0.977220241923672</dd>\n",
       "\t<dt>sexM</dt>\n",
       "\t\t<dd>1.12631738971089</dd>\n",
       "\t<dt>Fjobteacher</dt>\n",
       "\t\t<dd>1.13376776422181</dd>\n",
       "\t<dt>(Intercept)</dt>\n",
       "\t\t<dd>14.9679532731528</dd>\n",
       "</dl>\n"
      ],
      "text/latex": [
       "\\begin{description*}\n",
       "\\item[Medu1] -1.63919489802227\n",
       "\\item[Mjobteacher] -1.62803608980884\n",
       "\\item[Medu2] -1.23383574778962\n",
       "\\item[Medu3] -0.802729475544774\n",
       "\\item[traveltime2] -0.502178575309148\n",
       "\\item[Fedu2] -0.442664750275889\n",
       "\\item[Mjobother] -0.385706139782214\n",
       "\\item[Fedu3] -0.354280051144425\n",
       "\\item[age] -0.310205501984238\n",
       "\\item[Fedu4] -0.307159681444247\n",
       "\\item[Fjobother] -0.239910643605706\n",
       "\\item[guardianmother] -0.228737102991109\n",
       "\\item[Fjobservices] -0.176299236069733\n",
       "\\item[PstatusT] -0.14901644827457\n",
       "\\item[Fedu1] -0.0311988294801804\n",
       "\\item[reasonhome] 0.216328059501793\n",
       "\\item[Medu4] 0.254577161486018\n",
       "\\item[Mjobhealth] 0.27205628568717\n",
       "\\item[traveltime3] 0.28592538792152\n",
       "\\item[Fjobhealth] 0.39760015323728\n",
       "\\item[schoolMS] 0.47944586638505\n",
       "\\item[addressU] 0.487516788204248\n",
       "\\item[guardianother] 0.522498820705328\n",
       "\\item[Mjobservices] 0.58808654193003\n",
       "\\item[reasonreputation] 0.775003420840747\n",
       "\\item[famsizeLE3] 0.926341734486408\n",
       "\\item[reasonother] 0.977220241923672\n",
       "\\item[sexM] 1.12631738971089\n",
       "\\item[Fjobteacher] 1.13376776422181\n",
       "\\item[(Intercept)] 14.9679532731528\n",
       "\\end{description*}\n"
      ],
      "text/markdown": [
       "Medu1\n",
       ":   -1.63919489802227Mjobteacher\n",
       ":   -1.62803608980884Medu2\n",
       ":   -1.23383574778962Medu3\n",
       ":   -0.802729475544774traveltime2\n",
       ":   -0.502178575309148Fedu2\n",
       ":   -0.442664750275889Mjobother\n",
       ":   -0.385706139782214Fedu3\n",
       ":   -0.354280051144425age\n",
       ":   -0.310205501984238Fedu4\n",
       ":   -0.307159681444247Fjobother\n",
       ":   -0.239910643605706guardianmother\n",
       ":   -0.228737102991109Fjobservices\n",
       ":   -0.176299236069733PstatusT\n",
       ":   -0.14901644827457Fedu1\n",
       ":   -0.0311988294801804reasonhome\n",
       ":   0.216328059501793Medu4\n",
       ":   0.254577161486018Mjobhealth\n",
       ":   0.27205628568717traveltime3\n",
       ":   0.28592538792152Fjobhealth\n",
       ":   0.39760015323728schoolMS\n",
       ":   0.47944586638505addressU\n",
       ":   0.487516788204248guardianother\n",
       ":   0.522498820705328Mjobservices\n",
       ":   0.58808654193003reasonreputation\n",
       ":   0.775003420840747famsizeLE3\n",
       ":   0.926341734486408reasonother\n",
       ":   0.977220241923672sexM\n",
       ":   1.12631738971089Fjobteacher\n",
       ":   1.13376776422181(Intercept)\n",
       ":   14.9679532731528\n",
       "\n"
      ],
      "text/plain": [
       "           Medu1      Mjobteacher            Medu2            Medu3 \n",
       "     -1.63919490      -1.62803609      -1.23383575      -0.80272948 \n",
       "     traveltime2            Fedu2        Mjobother            Fedu3 \n",
       "     -0.50217858      -0.44266475      -0.38570614      -0.35428005 \n",
       "             age            Fedu4        Fjobother   guardianmother \n",
       "     -0.31020550      -0.30715968      -0.23991064      -0.22873710 \n",
       "    Fjobservices         PstatusT            Fedu1       reasonhome \n",
       "     -0.17629924      -0.14901645      -0.03119883       0.21632806 \n",
       "           Medu4       Mjobhealth      traveltime3       Fjobhealth \n",
       "      0.25457716       0.27205629       0.28592539       0.39760015 \n",
       "        schoolMS         addressU    guardianother     Mjobservices \n",
       "      0.47944587       0.48751679       0.52249882       0.58808654 \n",
       "reasonreputation       famsizeLE3      reasonother             sexM \n",
       "      0.77500342       0.92634173       0.97722024       1.12631739 \n",
       "     Fjobteacher      (Intercept) \n",
       "      1.13376776      14.96795327 "
      ]
     },
     "metadata": {},
     "output_type": "display_data"
    }
   ],
   "source": [
    "sort(regularizer.coef(df=math2, alpha=0, bestlam=bestlam.m)) # ridge on math"
   ]
  },
  {
   "cell_type": "code",
   "execution_count": 40,
   "metadata": {
    "Collapsed": "false"
   },
   "outputs": [
    {
     "data": {
      "text/html": [
       "<dl class=dl-horizontal>\n",
       "\t<dt>schoolMS</dt>\n",
       "\t\t<dd>-0.965913945145916</dd>\n",
       "\t<dt>sexM</dt>\n",
       "\t\t<dd>-0.436876649241483</dd>\n",
       "\t<dt>reasonother</dt>\n",
       "\t\t<dd>-0.271897131037858</dd>\n",
       "\t<dt>Fedu1</dt>\n",
       "\t\t<dd>-0.234754601310277</dd>\n",
       "\t<dt>guardianmother</dt>\n",
       "\t\t<dd>-0.038701180214311</dd>\n",
       "\t<dt>Fjobservices</dt>\n",
       "\t\t<dd>-0.00467973758195314</dd>\n",
       "\t<dt>Fedu4</dt>\n",
       "\t\t<dd>0.0522385190477669</dd>\n",
       "\t<dt>addressU</dt>\n",
       "\t\t<dd>0.114178850211126</dd>\n",
       "\t<dt>reasonreputation</dt>\n",
       "\t\t<dd>0.187679004603231</dd>\n",
       "\t<dt>Fjobteacher</dt>\n",
       "\t\t<dd>0.191484014106637</dd>\n",
       "\t<dt>Medu4</dt>\n",
       "\t\t<dd>0.379625712133833</dd>\n",
       "\t<dt>(Intercept)</dt>\n",
       "\t\t<dd>11.0248866602803</dd>\n",
       "</dl>\n"
      ],
      "text/latex": [
       "\\begin{description*}\n",
       "\\item[schoolMS] -0.965913945145916\n",
       "\\item[sexM] -0.436876649241483\n",
       "\\item[reasonother] -0.271897131037858\n",
       "\\item[Fedu1] -0.234754601310277\n",
       "\\item[guardianmother] -0.038701180214311\n",
       "\\item[Fjobservices] -0.00467973758195314\n",
       "\\item[Fedu4] 0.0522385190477669\n",
       "\\item[addressU] 0.114178850211126\n",
       "\\item[reasonreputation] 0.187679004603231\n",
       "\\item[Fjobteacher] 0.191484014106637\n",
       "\\item[Medu4] 0.379625712133833\n",
       "\\item[(Intercept)] 11.0248866602803\n",
       "\\end{description*}\n"
      ],
      "text/markdown": [
       "schoolMS\n",
       ":   -0.965913945145916sexM\n",
       ":   -0.436876649241483reasonother\n",
       ":   -0.271897131037858Fedu1\n",
       ":   -0.234754601310277guardianmother\n",
       ":   -0.038701180214311Fjobservices\n",
       ":   -0.00467973758195314Fedu4\n",
       ":   0.0522385190477669addressU\n",
       ":   0.114178850211126reasonreputation\n",
       ":   0.187679004603231Fjobteacher\n",
       ":   0.191484014106637Medu4\n",
       ":   0.379625712133833(Intercept)\n",
       ":   11.0248866602803\n",
       "\n"
      ],
      "text/plain": [
       "        schoolMS             sexM      reasonother            Fedu1 \n",
       "    -0.965913945     -0.436876649     -0.271897131     -0.234754601 \n",
       "  guardianmother     Fjobservices            Fedu4         addressU \n",
       "    -0.038701180     -0.004679738      0.052238519      0.114178850 \n",
       "reasonreputation      Fjobteacher            Medu4      (Intercept) \n",
       "     0.187679005      0.191484014      0.379625712     11.024886660 "
      ]
     },
     "metadata": {},
     "output_type": "display_data"
    }
   ],
   "source": [
    "sort(regularizer.coef(df=port2, alpha=1, bestlam=bestlam.m)) # lasso on Portuguese grades"
   ]
  },
  {
   "cell_type": "code",
   "execution_count": 41,
   "metadata": {
    "Collapsed": "false"
   },
   "outputs": [
    {
     "data": {
      "text/html": [
       "<dl class=dl-horizontal>\n",
       "\t<dt>schoolMS</dt>\n",
       "\t\t<dd>-1.06171390676395</dd>\n",
       "\t<dt>sexM</dt>\n",
       "\t\t<dd>-0.672561790214763</dd>\n",
       "\t<dt>Fjobhealth</dt>\n",
       "\t\t<dd>-0.548145354917369</dd>\n",
       "\t<dt>Fedu1</dt>\n",
       "\t\t<dd>-0.543474088826489</dd>\n",
       "\t<dt>reasonother</dt>\n",
       "\t\t<dd>-0.54221263038632</dd>\n",
       "\t<dt>Fjobservices</dt>\n",
       "\t\t<dd>-0.367758078894352</dd>\n",
       "\t<dt>guardianmother</dt>\n",
       "\t\t<dd>-0.342367414471443</dd>\n",
       "\t<dt>Medu2</dt>\n",
       "\t\t<dd>-0.17638095958683</dd>\n",
       "\t<dt>Fedu3</dt>\n",
       "\t\t<dd>-0.102350999935589</dd>\n",
       "\t<dt>Fedu2</dt>\n",
       "\t\t<dd>-0.0981979432138896</dd>\n",
       "\t<dt>reasonhome</dt>\n",
       "\t\t<dd>-0.066107697047546</dd>\n",
       "\t<dt>Medu3</dt>\n",
       "\t\t<dd>-0.0201590543166831</dd>\n",
       "\t<dt>Mjobother</dt>\n",
       "\t\t<dd>-0.00672533923713322</dd>\n",
       "\t<dt>Medu1</dt>\n",
       "\t\t<dd>0.0387688827753486</dd>\n",
       "\t<dt>Fjobother</dt>\n",
       "\t\t<dd>0.0425183245715033</dd>\n",
       "\t<dt>traveltime2</dt>\n",
       "\t\t<dd>0.068437974505748</dd>\n",
       "\t<dt>reasonreputation</dt>\n",
       "\t\t<dd>0.113170906522199</dd>\n",
       "\t<dt>Mjobteacher</dt>\n",
       "\t\t<dd>0.11747928660023</dd>\n",
       "\t<dt>age</dt>\n",
       "\t\t<dd>0.175839388731865</dd>\n",
       "\t<dt>Medu4</dt>\n",
       "\t\t<dd>0.19940688004539</dd>\n",
       "\t<dt>guardianother</dt>\n",
       "\t\t<dd>0.202779580289349</dd>\n",
       "\t<dt>Fedu4</dt>\n",
       "\t\t<dd>0.224918773329372</dd>\n",
       "\t<dt>PstatusT</dt>\n",
       "\t\t<dd>0.240618200523269</dd>\n",
       "\t<dt>famsizeLE3</dt>\n",
       "\t\t<dd>0.270463502196386</dd>\n",
       "\t<dt>addressU</dt>\n",
       "\t\t<dd>0.387513800498332</dd>\n",
       "\t<dt>Mjobservices</dt>\n",
       "\t\t<dd>0.390903982208816</dd>\n",
       "\t<dt>traveltime3</dt>\n",
       "\t\t<dd>0.537434126297202</dd>\n",
       "\t<dt>Mjobhealth</dt>\n",
       "\t\t<dd>0.613586287521894</dd>\n",
       "\t<dt>Fjobteacher</dt>\n",
       "\t\t<dd>0.626986177210984</dd>\n",
       "\t<dt>(Intercept)</dt>\n",
       "\t\t<dd>7.81742934043809</dd>\n",
       "</dl>\n"
      ],
      "text/latex": [
       "\\begin{description*}\n",
       "\\item[schoolMS] -1.06171390676395\n",
       "\\item[sexM] -0.672561790214763\n",
       "\\item[Fjobhealth] -0.548145354917369\n",
       "\\item[Fedu1] -0.543474088826489\n",
       "\\item[reasonother] -0.54221263038632\n",
       "\\item[Fjobservices] -0.367758078894352\n",
       "\\item[guardianmother] -0.342367414471443\n",
       "\\item[Medu2] -0.17638095958683\n",
       "\\item[Fedu3] -0.102350999935589\n",
       "\\item[Fedu2] -0.0981979432138896\n",
       "\\item[reasonhome] -0.066107697047546\n",
       "\\item[Medu3] -0.0201590543166831\n",
       "\\item[Mjobother] -0.00672533923713322\n",
       "\\item[Medu1] 0.0387688827753486\n",
       "\\item[Fjobother] 0.0425183245715033\n",
       "\\item[traveltime2] 0.068437974505748\n",
       "\\item[reasonreputation] 0.113170906522199\n",
       "\\item[Mjobteacher] 0.11747928660023\n",
       "\\item[age] 0.175839388731865\n",
       "\\item[Medu4] 0.19940688004539\n",
       "\\item[guardianother] 0.202779580289349\n",
       "\\item[Fedu4] 0.224918773329372\n",
       "\\item[PstatusT] 0.240618200523269\n",
       "\\item[famsizeLE3] 0.270463502196386\n",
       "\\item[addressU] 0.387513800498332\n",
       "\\item[Mjobservices] 0.390903982208816\n",
       "\\item[traveltime3] 0.537434126297202\n",
       "\\item[Mjobhealth] 0.613586287521894\n",
       "\\item[Fjobteacher] 0.626986177210984\n",
       "\\item[(Intercept)] 7.81742934043809\n",
       "\\end{description*}\n"
      ],
      "text/markdown": [
       "schoolMS\n",
       ":   -1.06171390676395sexM\n",
       ":   -0.672561790214763Fjobhealth\n",
       ":   -0.548145354917369Fedu1\n",
       ":   -0.543474088826489reasonother\n",
       ":   -0.54221263038632Fjobservices\n",
       ":   -0.367758078894352guardianmother\n",
       ":   -0.342367414471443Medu2\n",
       ":   -0.17638095958683Fedu3\n",
       ":   -0.102350999935589Fedu2\n",
       ":   -0.0981979432138896reasonhome\n",
       ":   -0.066107697047546Medu3\n",
       ":   -0.0201590543166831Mjobother\n",
       ":   -0.00672533923713322Medu1\n",
       ":   0.0387688827753486Fjobother\n",
       ":   0.0425183245715033traveltime2\n",
       ":   0.068437974505748reasonreputation\n",
       ":   0.113170906522199Mjobteacher\n",
       ":   0.11747928660023age\n",
       ":   0.175839388731865Medu4\n",
       ":   0.19940688004539guardianother\n",
       ":   0.202779580289349Fedu4\n",
       ":   0.224918773329372PstatusT\n",
       ":   0.240618200523269famsizeLE3\n",
       ":   0.270463502196386addressU\n",
       ":   0.387513800498332Mjobservices\n",
       ":   0.390903982208816traveltime3\n",
       ":   0.537434126297202Mjobhealth\n",
       ":   0.613586287521894Fjobteacher\n",
       ":   0.626986177210984(Intercept)\n",
       ":   7.81742934043809\n",
       "\n"
      ],
      "text/plain": [
       "        schoolMS             sexM       Fjobhealth            Fedu1 \n",
       "    -1.061713907     -0.672561790     -0.548145355     -0.543474089 \n",
       "     reasonother     Fjobservices   guardianmother            Medu2 \n",
       "    -0.542212630     -0.367758079     -0.342367414     -0.176380960 \n",
       "           Fedu3            Fedu2       reasonhome            Medu3 \n",
       "    -0.102351000     -0.098197943     -0.066107697     -0.020159054 \n",
       "       Mjobother            Medu1        Fjobother      traveltime2 \n",
       "    -0.006725339      0.038768883      0.042518325      0.068437975 \n",
       "reasonreputation      Mjobteacher              age            Medu4 \n",
       "     0.113170907      0.117479287      0.175839389      0.199406880 \n",
       "   guardianother            Fedu4         PstatusT       famsizeLE3 \n",
       "     0.202779580      0.224918773      0.240618201      0.270463502 \n",
       "        addressU     Mjobservices      traveltime3       Mjobhealth \n",
       "     0.387513800      0.390903982      0.537434126      0.613586288 \n",
       "     Fjobteacher      (Intercept) \n",
       "     0.626986177      7.817429340 "
      ]
     },
     "metadata": {},
     "output_type": "display_data"
    }
   ],
   "source": [
    "sort(regularizer.coef(df=port2, alpha=0, bestlam=bestlam.m)) # ridge on Portuguese grades"
   ]
  },
  {
   "cell_type": "code",
   "execution_count": 42,
   "metadata": {
    "Collapsed": "false"
   },
   "outputs": [
    {
     "data": {
      "image/png": "[encoded data removed]",
      "text/plain": [
       "plot without title"
      ]
     },
     "metadata": {},
     "output_type": "display_data"
    },
    {
     "data": {
      "image/png": "[encoded data removed]",
      "text/plain": [
       "plot without title"
      ]
     },
     "metadata": {},
     "output_type": "display_data"
    },
    {
     "data": {
      "image/png": "[encoded data removed]",
      "text/plain": [
       "plot without title"
      ]
     },
     "metadata": {},
     "output_type": "display_data"
    },
    {
     "data": {
      "image/png": "[encoded data removed]",
      "text/plain": [
       "plot without title"
      ]
     },
     "metadata": {},
     "output_type": "display_data"
    },
    {
     "data": {
      "image/png": "[encoded data removed]",
      "text/plain": [
       "plot without title"
      ]
     },
     "metadata": {},
     "output_type": "display_data"
    },
    {
     "data": {
      "image/png": "[encoded data removed]",
      "text/plain": [
       "plot without title"
      ]
     },
     "metadata": {},
     "output_type": "display_data"
    },
    {
     "data": {
      "image/png": "[encoded data removed]",
      "text/plain": [
       "plot without title"
      ]
     },
     "metadata": {},
     "output_type": "display_data"
    },
    {
     "data": {
      "image/png": "[encoded data removed]",
      "text/plain": [
       "plot without title"
      ]
     },
     "metadata": {},
     "output_type": "display_data"
    },
    {
     "data": {
      "image/png": "[encoded data removed]",
      "text/plain": [
       "plot without title"
      ]
     },
     "metadata": {},
     "output_type": "display_data"
    },
    {
     "data": {
      "image/png": "[encoded data removed]",
      "text/plain": [
       "plot without title"
      ]
     },
     "metadata": {},
     "output_type": "display_data"
    },
    {
     "data": {
      "image/png": "[encoded data removed]",
      "text/plain": [
       "plot without title"
      ]
     },
     "metadata": {},
     "output_type": "display_data"
    },
    {
     "data": {
      "image/png": "[encoded data removed]",
      "text/plain": [
       "plot without title"
      ]
     },
     "metadata": {},
     "output_type": "display_data"
    },
    {
     "data": {
      "image/png": "[encoded data removed]",
      "text/plain": [
       "plot without title"
      ]
     },
     "metadata": {},
     "output_type": "display_data"
    },
    {
     "data": {
      "image/png": "[encoded data removed]",
      "text/plain": [
       "plot without title"
      ]
     },
     "metadata": {},
     "output_type": "display_data"
    }
   ],
   "source": [
    "#### boxplot to show key variables for lasso or ridge ####\n",
    "# for categorical variables\n",
    "boxplot = function(df, cols, col_y = 'G3'){\n",
    "    options(repr.plot.width=4, repr.plot.height=3.5) # Set the initial plot area dimensions\n",
    "    for(col in cols){\n",
    "        p = ggplot(df, aes_string(col, col_y)) + \n",
    "            geom_boxplot() +\n",
    "            ggtitle(paste('Box plot of', col, 'vs.', col_y))\n",
    "        print(p + geom_hline(yintercept = 10, col ='red', linetype=\"dashed\")+stat_summary(fun.y=mean,shape=1,col='red',geom='point'))\n",
    "    }\n",
    "}\n",
    "cat.cols = c('sex', 'Medu', 'Mjob', 'Fjob', 'studytime', 'failures', 'school')\n",
    "boxplot(math2, cat.cols) # box plot for math\n",
    "boxplot(port2, cat.cols) # box plot for port"
   ]
  },
  {
   "cell_type": "markdown",
   "metadata": {
    "Collapsed": "false"
   },
   "source": [
    "‘Mjobservices’ and ‘Fjobteacher’ have the largest positive influence on Mathematics grade in the Lasso and Ridge regressions respectively. \n",
    "\n",
    "A student scores higher when his or her father is a teacher, as compared to other fathers’ occupations.\n",
    "\n",
    "‘schoolMS’ influences Portuguese grade negatively in both Lasso (-0.99) and Ridge (-1.07) regressions. The average Portuguese grades are higher for Gabriel Pereira (GP).\n",
    "\n",
    "\n",
    "Both shrinkage models emphasize the significance of parents’ education and job in determining a student’s grade. There is no bias for ‘failures’ in both Ridge and Lasso regressions. \n"
   ]
  },
  {
   "cell_type": "markdown",
   "metadata": {
    "Collapsed": "false"
   },
   "source": [
    "## Tree based methods"
   ]
  },
  {
   "cell_type": "markdown",
   "metadata": {
    "Collapsed": "false"
   },
   "source": [
    "A regression tree starts by making a decision based on a flow chart to predict a continuous value (e.g. final grade, G3). \n",
    "\n",
    "The starting question, ‘Do the students have any failures for the subject?’ (also known as the root node) is split into two branches (yes or no) and this tree grows based on a sequence of questions asked about the features (e.g. absences, failures…). It stops at the leaf nodes when it cannot be split further. Decision trees tend to grow to a large size and overfit the data. Therefore, the minimum complexity parameter (cp) is used to select the optimal tree size to prevent overfitting. The main split for both subjects is based on ‘failures’."
   ]
  },
  {
   "cell_type": "code",
   "execution_count": 43,
   "metadata": {
    "Collapsed": "false"
   },
   "outputs": [],
   "source": [
    "#### Regression tree ####\n",
    "reg.tree = function(train){ # regression tree on train set \n",
    "    rtree = rpart(G3~., train, method='anova')\n",
    "    rtree \n",
    "}   "
   ]
  },
  {
   "cell_type": "code",
   "execution_count": 44,
   "metadata": {
    "Collapsed": "false"
   },
   "outputs": [],
   "source": [
    "# prune the tree based on the complexity parameter\n",
    "reg.tree.prune = function(rtree=reg.tree){ # find the model with min complexity parameter\n",
    "    min.cp = rtree$cptable[which.min(rtree$cptable[,\"xerror\"]),\"CP\"]\n",
    "    prune.rtree = prune(rtree, cp=min.cp)\n",
    "    prune.rtree \n",
    "}"
   ]
  },
  {
   "cell_type": "code",
   "execution_count": 45,
   "metadata": {
    "Collapsed": "false"
   },
   "outputs": [],
   "source": [
    "# set prune.rtree\n",
    "prune.rtree.m = reg.tree.prune(reg.tree(m.train)) # prune tree for math\n",
    "prune.rtree.p = reg.tree.prune(reg.tree(p.train)) # prune tree for port\n",
    "\n",
    "# predict on rmse\n",
    "reg.tree.rmse = function(prune.rtree=reg.tree.prune, test){ #rmse\n",
    "    tree.pred = predict(prune.rtree, newdata=test)\n",
    "    tree.pred.rmse = RMSE(test$G3 - tree.pred)\n",
    "    return(tree.pred.rmse)\n",
    "}"
   ]
  },
  {
   "cell_type": "code",
   "execution_count": 46,
   "metadata": {
    "Collapsed": "true"
   },
   "outputs": [
    {
     "data": {
      "text/html": [
       "4.25"
      ],
      "text/latex": [
       "4.25"
      ],
      "text/markdown": [
       "4.25"
      ],
      "text/plain": [
       "[1] 4.25"
      ]
     },
     "metadata": {},
     "output_type": "display_data"
    },
    {
     "data": {
      "text/html": [
       "2.97"
      ],
      "text/latex": [
       "2.97"
      ],
      "text/markdown": [
       "2.97"
      ],
      "text/plain": [
       "[1] 2.97"
      ]
     },
     "metadata": {},
     "output_type": "display_data"
    }
   ],
   "source": [
    "# Methods\n",
    "reg.tree.rmse(prune.rtree=reg.tree.prune(reg.tree(train=m.train)), test=m.test)\n",
    "# 4.25\n",
    "\n",
    "reg.tree.rmse(prune.rtree=reg.tree.prune(reg.tree(train=p.train)), test=p.test)\n",
    "# 3.02"
   ]
  },
  {
   "cell_type": "code",
   "execution_count": 47,
   "metadata": {
    "Collapsed": "true"
   },
   "outputs": [
    {
     "data": {
      "image/png": "[encoded data removed]",
      "text/plain": [
       "plot without title"
      ]
     },
     "metadata": {},
     "output_type": "display_data"
    },
    {
     "data": {
      "image/png": "[encoded data removed]",
      "text/plain": [
       "plot without title"
      ]
     },
     "metadata": {},
     "output_type": "display_data"
    },
    {
     "data": {
      "image/png": "[encoded data removed]",
      "text/plain": [
       "plot without title"
      ]
     },
     "metadata": {},
     "output_type": "display_data"
    },
    {
     "data": {
      "image/png": "[encoded data removed]",
      "text/plain": [
       "plot without title"
      ]
     },
     "metadata": {},
     "output_type": "display_data"
    }
   ],
   "source": [
    "# plot both prune and full tree\n",
    "trees.plot=function(rtree=reg.tree, prune.rtree=reg.tree.prune){ #plots\n",
    "    rpart.plot(rtree, roundint=FALSE) # plot tree\n",
    "    rpart.plot(prune.rtree, roundint=FALSE, cex=1) # pruned tree\n",
    "} \n",
    "# Methods:\n",
    "# prune.rtree = reg.tree.prune(rtree=reg.tree(train=m.train))\n",
    "trees.plot(rtree=reg.tree(train=m.train), prune.rtree=prune.rtree.m) # m.train\n",
    "trees.plot(rtree=reg.tree(train=p.train), prune.rtree=prune.rtree.p) # p.train"
   ]
  },
  {
   "cell_type": "code",
   "execution_count": 49,
   "metadata": {
    "Collapsed": "true"
   },
   "outputs": [
    {
     "data": {
      "text/html": [
       "<table>\n",
       "<thead><tr><th></th><th scope=col>G3</th><th scope=col></th><th scope=col></th><th scope=col></th><th scope=col></th><th scope=col></th><th scope=col></th><th scope=col></th><th scope=col></th></tr></thead>\n",
       "<tbody>\n",
       "\t<tr><th scope=row>4</th><td> 2.2       </td><td>when       </td><td>failures   </td><td>is         </td><td>1 or 2 or 3</td><td>&amp;      </td><td>absences   </td><td>&lt;       </td><td>1          </td></tr>\n",
       "\t<tr><th scope=row>5</th><td> 9.3       </td><td>when       </td><td>failures   </td><td>is         </td><td>1 or 2 or 3</td><td>&amp;      </td><td>absences   </td><td>&gt;=      </td><td>1          </td></tr>\n",
       "\t<tr><th scope=row>3</th><td>11.4       </td><td>when       </td><td>failures   </td><td>is         </td><td>0          </td><td>           </td><td>           </td><td>           </td><td>           </td></tr>\n",
       "</tbody>\n",
       "</table>\n"
      ],
      "text/latex": [
       "\\begin{tabular}{r|lllllllll}\n",
       "  & G3 &  &  &  &  &  &  &  & \\\\\n",
       "\\hline\n",
       "\t4 &  2.2        & when        & failures    & is          & 1 or 2 or 3 & \\&         & absences    & <           & 1          \\\\\n",
       "\t5 &  9.3        & when        & failures    & is          & 1 or 2 or 3 & \\&         & absences    & >=          & 1          \\\\\n",
       "\t3 & 11.4        & when        & failures    & is          & 0           &             &             &             &            \\\\\n",
       "\\end{tabular}\n"
      ],
      "text/markdown": [
       "\n",
       "| <!--/--> | G3 |  |  |  |  |  |  |  |  |\n",
       "|---|---|---|---|---|---|---|---|---|---|\n",
       "| 4 |  2.2        | when        | failures    | is          | 1 or 2 or 3 | &           | absences    | <           | 1           |\n",
       "| 5 |  9.3        | when        | failures    | is          | 1 or 2 or 3 | &           | absences    | >=          | 1           |\n",
       "| 3 | 11.4        | when        | failures    | is          | 0           |             |             |             |             |\n",
       "\n"
      ],
      "text/plain": [
       "  G3                                               \n",
       "4  2.2 when failures is 1 or 2 or 3 & absences <  1\n",
       "5  9.3 when failures is 1 or 2 or 3 & absences >= 1\n",
       "3 11.4 when failures is 0                          "
      ]
     },
     "metadata": {},
     "output_type": "display_data"
    },
    {
     "data": {
      "text/html": [
       "<table>\n",
       "<thead><tr><th></th><th scope=col>G3</th><th scope=col></th><th scope=col>.1</th><th scope=col>.2</th><th scope=col>.3</th><th scope=col>.4</th><th scope=col>.5</th><th scope=col>.6</th><th scope=col>.7</th><th scope=col>.8</th><th scope=col>...</th><th scope=col></th><th scope=col>.1</th><th scope=col>.2</th><th scope=col>.3</th><th scope=col>.4</th><th scope=col>.5</th><th scope=col>.6</th><th scope=col>.7</th><th scope=col>.8</th><th scope=col>.9</th></tr></thead>\n",
       "<tbody>\n",
       "\t<tr><th scope=row>4</th><td> 6.2            </td><td>when            </td><td>failures        </td><td>is              </td><td>1 or 2 or 3     </td><td>                </td><td>                </td><td>                </td><td>                </td><td>                </td><td>...             </td><td>is              </td><td>2 or 4          </td><td>                </td><td>                </td><td>                </td><td>                </td><td>                </td><td>                </td><td>                </td><td>                </td></tr>\n",
       "\t<tr><th scope=row>5</th><td> 9.2            </td><td>when            </td><td>failures        </td><td>is              </td><td>1 or 2 or 3     </td><td>                </td><td>                </td><td>                </td><td>                </td><td>                </td><td>...             </td><td>is              </td><td>1 or 3 or 5     </td><td>                </td><td>                </td><td>                </td><td>                </td><td>                </td><td>                </td><td>                </td><td>                </td></tr>\n",
       "\t<tr><th scope=row>56</th><td> 9.4                                                    </td><td>when                                                    </td><td>failures                                                </td><td>is                                                      </td><td><span style=white-space:pre-wrap>0          </span>     </td><td>&amp;                                                   </td><td>higher                                                  </td><td>is                                                      </td><td>yes                                                     </td><td>&amp;                                                   </td><td>...                                                     </td><td><span style=white-space:pre-wrap>  </span>              </td><td><span style=white-space:pre-wrap>           </span>     </td><td>                                                        </td><td><span style=white-space:pre-wrap>         </span>       </td><td><span style=white-space:pre-wrap>  </span>              </td><td><span style=white-space:pre-wrap>   </span>             </td><td>&amp;                                                   </td><td>Fedu                                                    </td><td>is                                                      </td><td><span style=white-space:pre-wrap>1               </span></td></tr>\n",
       "\t<tr><th scope=row>6</th><td>10.0                                                    </td><td>when                                                    </td><td>failures                                                </td><td>is                                                      </td><td><span style=white-space:pre-wrap>0          </span>     </td><td>&amp;                                                   </td><td>higher                                                  </td><td>is                                                      </td><td>no                                                      </td><td>                                                        </td><td>...                                                     </td><td><span style=white-space:pre-wrap>  </span>              </td><td><span style=white-space:pre-wrap>           </span>     </td><td>                                                        </td><td><span style=white-space:pre-wrap>         </span>       </td><td><span style=white-space:pre-wrap>  </span>              </td><td><span style=white-space:pre-wrap>   </span>             </td><td>                                                        </td><td><span style=white-space:pre-wrap>    </span>            </td><td><span style=white-space:pre-wrap>  </span>              </td><td><span style=white-space:pre-wrap>                </span></td></tr>\n",
       "\t<tr><th scope=row>30</th><td>11.6                                                    </td><td>when                                                    </td><td>failures                                                </td><td>is                                                      </td><td><span style=white-space:pre-wrap>0          </span>     </td><td>&amp;                                                   </td><td>higher                                                  </td><td>is                                                      </td><td>yes                                                     </td><td>&amp;                                                   </td><td>...                                                     </td><td><span style=white-space:pre-wrap>  </span>              </td><td><span style=white-space:pre-wrap>           </span>     </td><td>&amp;                                                   </td><td>schoolsup                                               </td><td>is                                                      </td><td>yes                                                     </td><td>                                                        </td><td><span style=white-space:pre-wrap>    </span>            </td><td><span style=white-space:pre-wrap>  </span>              </td><td><span style=white-space:pre-wrap>                </span></td></tr>\n",
       "\t<tr><th scope=row>57</th><td>11.8                                               </td><td>when                                               </td><td>failures                                           </td><td>is                                                 </td><td><span style=white-space:pre-wrap>0          </span></td><td>&amp;                                              </td><td>higher                                             </td><td>is                                                 </td><td>yes                                                </td><td>&amp;                                              </td><td>...                                                </td><td><span style=white-space:pre-wrap>  </span>         </td><td><span style=white-space:pre-wrap>           </span></td><td>                                                   </td><td><span style=white-space:pre-wrap>         </span>  </td><td><span style=white-space:pre-wrap>  </span>         </td><td><span style=white-space:pre-wrap>   </span>        </td><td>&amp;                                              </td><td>Fedu                                               </td><td>is                                                 </td><td>0 or 2 or 3 or 4                                   </td></tr>\n",
       "\t<tr><th scope=row>31</th><td>13.4                                                    </td><td>when                                                    </td><td>failures                                                </td><td>is                                                      </td><td><span style=white-space:pre-wrap>0          </span>     </td><td>&amp;                                                   </td><td>higher                                                  </td><td>is                                                      </td><td>yes                                                     </td><td>&amp;                                                   </td><td>...                                                     </td><td><span style=white-space:pre-wrap>  </span>              </td><td><span style=white-space:pre-wrap>           </span>     </td><td>&amp;                                                   </td><td>schoolsup                                               </td><td>is                                                      </td><td>no                                                      </td><td>                                                        </td><td><span style=white-space:pre-wrap>    </span>            </td><td><span style=white-space:pre-wrap>  </span>              </td><td><span style=white-space:pre-wrap>                </span></td></tr>\n",
       "\t<tr><th scope=row>29</th><td>13.5                                                    </td><td>when                                                    </td><td>failures                                                </td><td>is                                                      </td><td><span style=white-space:pre-wrap>0          </span>     </td><td>&amp;                                                   </td><td>higher                                                  </td><td>is                                                      </td><td>yes                                                     </td><td>&amp;                                                   </td><td>...                                                     </td><td><span style=white-space:pre-wrap>  </span>              </td><td><span style=white-space:pre-wrap>           </span>     </td><td>                                                        </td><td><span style=white-space:pre-wrap>         </span>       </td><td><span style=white-space:pre-wrap>  </span>              </td><td><span style=white-space:pre-wrap>   </span>             </td><td>                                                        </td><td><span style=white-space:pre-wrap>    </span>            </td><td><span style=white-space:pre-wrap>  </span>              </td><td><span style=white-space:pre-wrap>                </span></td></tr>\n",
       "</tbody>\n",
       "</table>\n"
      ],
      "text/latex": [
       "\\begin{tabular}{r|lllllllllllllllllllllllllllll}\n",
       "  & G3 &  & .1 & .2 & .3 & .4 & .5 & .6 & .7 & .8 & ... &  & .1 & .2 & .3 & .4 & .5 & .6 & .7 & .8 & .9\\\\\n",
       "\\hline\n",
       "\t4 &  6.2             & when             & failures         & is               & 1 or 2 or 3      &                  &                  &                  &                  &                  & ...              & is               & 2 or 4           &                  &                  &                  &                  &                  &                  &                  &                 \\\\\n",
       "\t5 &  9.2             & when             & failures         & is               & 1 or 2 or 3      &                  &                  &                  &                  &                  & ...              & is               & 1 or 3 or 5      &                  &                  &                  &                  &                  &                  &                  &                 \\\\\n",
       "\t56 &  9.4             & when             & failures         & is               & 0                & \\&              & higher           & is               & yes              & \\&              & ...              &                  &                  &                  &                  &                  &                  & \\&              & Fedu             & is               & 1               \\\\\n",
       "\t6 & 10.0             & when             & failures         & is               & 0                & \\&              & higher           & is               & no               &                  & ...              &                  &                  &                  &                  &                  &                  &                  &                  &                  &                 \\\\\n",
       "\t30 & 11.6             & when             & failures         & is               & 0                & \\&              & higher           & is               & yes              & \\&              & ...              &                  &                  & \\&              & schoolsup        & is               & yes              &                  &                  &                  &                 \\\\\n",
       "\t57 & 11.8             & when             & failures         & is               & 0                & \\&              & higher           & is               & yes              & \\&              & ...              &                  &                  &                  &                  &                  &                  & \\&              & Fedu             & is               & 0 or 2 or 3 or 4\\\\\n",
       "\t31 & 13.4             & when             & failures         & is               & 0                & \\&              & higher           & is               & yes              & \\&              & ...              &                  &                  & \\&              & schoolsup        & is               & no               &                  &                  &                  &                 \\\\\n",
       "\t29 & 13.5             & when             & failures         & is               & 0                & \\&              & higher           & is               & yes              & \\&              & ...              &                  &                  &                  &                  &                  &                  &                  &                  &                  &                 \\\\\n",
       "\\end{tabular}\n"
      ],
      "text/markdown": [
       "\n",
       "| <!--/--> | G3 |  | .1 | .2 | .3 | .4 | .5 | .6 | .7 | .8 | ... |  | .1 | .2 | .3 | .4 | .5 | .6 | .7 | .8 | .9 |\n",
       "|---|---|---|---|---|---|---|---|---|---|---|---|---|---|---|---|---|---|---|---|---|---|\n",
       "| 4 |  6.2             | when             | failures         | is               | 1 or 2 or 3      |                  |                  |                  |                  |                  | ...              | is               | 2 or 4           |                  |                  |                  |                  |                  |                  |                  |                  |\n",
       "| 5 |  9.2             | when             | failures         | is               | 1 or 2 or 3      |                  |                  |                  |                  |                  | ...              | is               | 1 or 3 or 5      |                  |                  |                  |                  |                  |                  |                  |                  |\n",
       "| 56 |  9.4             | when             | failures         | is               | 0                | &                | higher           | is               | yes              | &                | ...              |                  |                  |                  |                  |                  |                  | &                | Fedu             | is               | 1                |\n",
       "| 6 | 10.0             | when             | failures         | is               | 0                | &                | higher           | is               | no               |                  | ...              |                  |                  |                  |                  |                  |                  |                  |                  |                  |                  |\n",
       "| 30 | 11.6             | when             | failures         | is               | 0                | &                | higher           | is               | yes              | &                | ...              |                  |                  | &                | schoolsup        | is               | yes              |                  |                  |                  |                  |\n",
       "| 57 | 11.8             | when             | failures         | is               | 0                | &                | higher           | is               | yes              | &                | ...              |                  |                  |                  |                  |                  |                  | &                | Fedu             | is               | 0 or 2 or 3 or 4 |\n",
       "| 31 | 13.4             | when             | failures         | is               | 0                | &                | higher           | is               | yes              | &                | ...              |                  |                  | &                | schoolsup        | is               | no               |                  |                  |                  |                  |\n",
       "| 29 | 13.5             | when             | failures         | is               | 0                | &                | higher           | is               | yes              | &                | ...              |                  |                  |                  |                  |                  |                  |                  |                  |                  |                  |\n",
       "\n"
      ],
      "text/plain": [
       "   G3        .1       .2 .3          .4 .5     .6 .7  .8 ...    .1          .2\n",
       "4   6.2 when failures is 1 or 2 or 3                     ... is 2 or 4        \n",
       "5   9.2 when failures is 1 or 2 or 3                     ... is 1 or 3 or 5   \n",
       "56  9.4 when failures is 0           &  higher is yes &  ...                  \n",
       "6  10.0 when failures is 0           &  higher is no     ...                  \n",
       "30 11.6 when failures is 0           &  higher is yes &  ...                & \n",
       "57 11.8 when failures is 0           &  higher is yes &  ...                  \n",
       "31 13.4 when failures is 0           &  higher is yes &  ...                & \n",
       "29 13.5 when failures is 0           &  higher is yes &  ...                  \n",
       "   .3        .4 .5  .6 .7   .8 .9              \n",
       "4                                              \n",
       "5                                              \n",
       "56                  &  Fedu is 1               \n",
       "6                                              \n",
       "30 schoolsup is yes                            \n",
       "57                  &  Fedu is 0 or 2 or 3 or 4\n",
       "31 schoolsup is no                             \n",
       "29                                             "
      ]
     },
     "metadata": {},
     "output_type": "display_data"
    }
   ],
   "source": [
    "m.rules = rpart.rules(prune.rtree.m, roundint=FALSE)\n",
    "p.rules = rpart.rules(prune.rtree.p, roundint=FALSE)\n",
    "\n",
    "m.rules\n",
    "p.rules"
   ]
  },
  {
   "cell_type": "code",
   "execution_count": 216,
   "metadata": {
    "Collapsed": "false"
   },
   "outputs": [
    {
     "data": {
      "text/html": [
       "<table>\n",
       "<thead><tr><th></th><th scope=col>G3</th><th scope=col></th><th scope=col>.1</th><th scope=col>.2</th><th scope=col>.3</th><th scope=col>.4</th><th scope=col>.5</th><th scope=col>.6</th><th scope=col>.7</th><th scope=col>.8</th><th scope=col>...</th><th scope=col></th><th scope=col>.1</th><th scope=col>.2</th><th scope=col>.3</th><th scope=col>.4</th><th scope=col>.5</th><th scope=col>.6</th><th scope=col>.7</th><th scope=col>.8</th><th scope=col>.9</th></tr></thead>\n",
       "<tbody>\n",
       "\t<tr><th scope=row>8</th><td> 0.58                                                                         </td><td>when                                                                          </td><td>failures                                                                      </td><td>is                                                                            </td><td>1 or 2 or 3                                                                   </td><td>&amp;                                                                         </td><td>absences                                                                      </td><td>&lt;                                                                          </td><td>1                                                                             </td><td>                                                                              </td><td>...                                                                           </td><td><span style=white-space:pre-wrap>  </span>                                    </td><td><span style=white-space:pre-wrap>                       </span>               </td><td>&amp;                                                                         </td><td>freetime                                                                      </td><td>is                                                                            </td><td><span style=white-space:pre-wrap>2 or 3     </span>                           </td><td>                                                                              </td><td><span style=white-space:pre-wrap>    </span>                                  </td><td><span style=white-space:pre-wrap>  </span>                                    </td><td><span style=white-space:pre-wrap>                                      </span></td></tr>\n",
       "\t<tr><th scope=row>9</th><td> 4.67                                                                         </td><td>when                                                                          </td><td>failures                                                                      </td><td>is                                                                            </td><td>1 or 2 or 3                                                                   </td><td>&amp;                                                                         </td><td>absences                                                                      </td><td>&lt;                                                                          </td><td>1                                                                             </td><td>                                                                              </td><td>...                                                                           </td><td><span style=white-space:pre-wrap>  </span>                                    </td><td><span style=white-space:pre-wrap>                       </span>               </td><td>&amp;                                                                         </td><td>freetime                                                                      </td><td>is                                                                            </td><td>1 or 4 or 5                                                                   </td><td>                                                                              </td><td><span style=white-space:pre-wrap>    </span>                                  </td><td><span style=white-space:pre-wrap>  </span>                                    </td><td><span style=white-space:pre-wrap>                                      </span></td></tr>\n",
       "\t<tr><th scope=row>48</th><td> 6.20                                                                         </td><td>when                                                                          </td><td>failures                                                                      </td><td>is                                                                            </td><td><span style=white-space:pre-wrap>0          </span>                           </td><td>&amp;                                                                         </td><td>absences                                                                      </td><td>&lt;                                                                          </td><td>1                                                                             </td><td>&amp;                                                                         </td><td>...                                                                           </td><td>is                                                                            </td><td>course or home or other                                                       </td><td>                                                                              </td><td><span style=white-space:pre-wrap>        </span>                              </td><td><span style=white-space:pre-wrap>  </span>                                    </td><td><span style=white-space:pre-wrap>           </span>                           </td><td>                                                                              </td><td><span style=white-space:pre-wrap>    </span>                                  </td><td><span style=white-space:pre-wrap>  </span>                                    </td><td><span style=white-space:pre-wrap>                                      </span></td></tr>\n",
       "\t<tr><th scope=row>26</th><td> 9.07                                                                         </td><td>when                                                                          </td><td>failures                                                                      </td><td>is                                                                            </td><td><span style=white-space:pre-wrap>0          </span>                           </td><td>&amp;                                                                         </td><td>absences                                                                      </td><td>&gt;=                                                                         </td><td>1                                                                             </td><td>&amp;                                                                         </td><td>...                                                                           </td><td><span style=white-space:pre-wrap>  </span>                                    </td><td><span style=white-space:pre-wrap>                       </span>               </td><td>                                                                              </td><td><span style=white-space:pre-wrap>        </span>                              </td><td><span style=white-space:pre-wrap>  </span>                                    </td><td><span style=white-space:pre-wrap>           </span>                           </td><td>                                                                              </td><td><span style=white-space:pre-wrap>    </span>                                  </td><td><span style=white-space:pre-wrap>  </span>                                    </td><td><span style=white-space:pre-wrap>                                      </span></td></tr>\n",
       "\t<tr><th scope=row>5</th><td> 9.39                                                                         </td><td>when                                                                          </td><td>failures                                                                      </td><td>is                                                                            </td><td>1 or 2 or 3                                                                   </td><td>&amp;                                                                         </td><td>absences                                                                      </td><td>&gt;=                                                                         </td><td>1                                                                             </td><td>                                                                              </td><td>...                                                                           </td><td><span style=white-space:pre-wrap>  </span>                                    </td><td><span style=white-space:pre-wrap>                       </span>               </td><td>                                                                              </td><td><span style=white-space:pre-wrap>        </span>                              </td><td><span style=white-space:pre-wrap>  </span>                                    </td><td><span style=white-space:pre-wrap>           </span>                           </td><td>                                                                              </td><td><span style=white-space:pre-wrap>    </span>                                  </td><td><span style=white-space:pre-wrap>  </span>                                    </td><td><span style=white-space:pre-wrap>                                      </span></td></tr>\n",
       "\t<tr><th scope=row>14</th><td> 9.56                                                                         </td><td>when                                                                          </td><td>failures                                                                      </td><td>is                                                                            </td><td><span style=white-space:pre-wrap>0          </span>                           </td><td>                                                                              </td><td><span style=white-space:pre-wrap>        </span>                              </td><td><span style=white-space:pre-wrap>  </span>                                    </td><td>                                                                              </td><td>&amp;                                                                         </td><td>...                                                                           </td><td><span style=white-space:pre-wrap>  </span>                                    </td><td><span style=white-space:pre-wrap>                       </span>               </td><td>                                                                              </td><td><span style=white-space:pre-wrap>        </span>                              </td><td><span style=white-space:pre-wrap>  </span>                                    </td><td><span style=white-space:pre-wrap>           </span>                           </td><td>                                                                              </td><td><span style=white-space:pre-wrap>    </span>                                  </td><td><span style=white-space:pre-wrap>  </span>                                    </td><td><span style=white-space:pre-wrap>                                      </span></td></tr>\n",
       "\t<tr><th scope=row>49</th><td>10.00                                                                         </td><td>when                                                                          </td><td>failures                                                                      </td><td>is                                                                            </td><td><span style=white-space:pre-wrap>0          </span>                           </td><td>&amp;                                                                         </td><td>absences                                                                      </td><td>&lt;                                                                          </td><td>1                                                                             </td><td>&amp;                                                                         </td><td>...                                                                           </td><td>is                                                                            </td><td>course or home or other                                                       </td><td>                                                                              </td><td><span style=white-space:pre-wrap>        </span>                              </td><td><span style=white-space:pre-wrap>  </span>                                    </td><td><span style=white-space:pre-wrap>           </span>                           </td><td>                                                                              </td><td><span style=white-space:pre-wrap>    </span>                                  </td><td><span style=white-space:pre-wrap>  </span>                                    </td><td><span style=white-space:pre-wrap>                                      </span></td></tr>\n",
       "\t<tr><th scope=row>54</th><td>11.42                                                          </td><td>when                                                           </td><td>failures                                                       </td><td>is                                                             </td><td><span style=white-space:pre-wrap>0          </span>            </td><td>&amp;                                                          </td><td>absences                                                       </td><td>&gt;=                                                          </td><td>1                                                              </td><td>&amp;                                                          </td><td>...                                                            </td><td><span style=white-space:pre-wrap>  </span>                     </td><td><span style=white-space:pre-wrap>                       </span></td><td>                                                               </td><td><span style=white-space:pre-wrap>        </span>               </td><td><span style=white-space:pre-wrap>  </span>                     </td><td><span style=white-space:pre-wrap>           </span>            </td><td>&amp;                                                          </td><td>Fjob                                                           </td><td>is                                                             </td><td>at_home or health or other or services                         </td></tr>\n",
       "\t<tr><th scope=row>30</th><td>12.59                                                                         </td><td>when                                                                          </td><td>failures                                                                      </td><td>is                                                                            </td><td><span style=white-space:pre-wrap>0          </span>                           </td><td>                                                                              </td><td><span style=white-space:pre-wrap>        </span>                              </td><td><span style=white-space:pre-wrap>  </span>                                    </td><td>                                                                              </td><td>&amp;                                                                         </td><td>...                                                                           </td><td><span style=white-space:pre-wrap>  </span>                                    </td><td><span style=white-space:pre-wrap>                       </span>               </td><td>                                                                              </td><td><span style=white-space:pre-wrap>        </span>                              </td><td><span style=white-space:pre-wrap>  </span>                                    </td><td><span style=white-space:pre-wrap>           </span>                           </td><td>                                                                              </td><td><span style=white-space:pre-wrap>    </span>                                  </td><td><span style=white-space:pre-wrap>  </span>                                    </td><td><span style=white-space:pre-wrap>                                      </span></td></tr>\n",
       "\t<tr><th scope=row>25</th><td>13.22                                                                         </td><td>when                                                                          </td><td>failures                                                                      </td><td>is                                                                            </td><td><span style=white-space:pre-wrap>0          </span>                           </td><td>&amp;                                                                         </td><td>absences                                                                      </td><td>&lt;                                                                          </td><td>1                                                                             </td><td>&amp;                                                                         </td><td>...                                                                           </td><td>is                                                                            </td><td><span style=white-space:pre-wrap>reputation             </span>               </td><td>                                                                              </td><td><span style=white-space:pre-wrap>        </span>                              </td><td><span style=white-space:pre-wrap>  </span>                                    </td><td><span style=white-space:pre-wrap>           </span>                           </td><td>                                                                              </td><td><span style=white-space:pre-wrap>    </span>                                  </td><td><span style=white-space:pre-wrap>  </span>                                    </td><td><span style=white-space:pre-wrap>                                      </span></td></tr>\n",
       "\t<tr><th scope=row>55</th><td>14.57                                                                         </td><td>when                                                                          </td><td>failures                                                                      </td><td>is                                                                            </td><td><span style=white-space:pre-wrap>0          </span>                           </td><td>&amp;                                                                         </td><td>absences                                                                      </td><td>&gt;=                                                                         </td><td>1                                                                             </td><td>&amp;                                                                         </td><td>...                                                                           </td><td><span style=white-space:pre-wrap>  </span>                                    </td><td><span style=white-space:pre-wrap>                       </span>               </td><td>                                                                              </td><td><span style=white-space:pre-wrap>        </span>                              </td><td><span style=white-space:pre-wrap>  </span>                                    </td><td><span style=white-space:pre-wrap>           </span>                           </td><td>&amp;                                                                         </td><td>Fjob                                                                          </td><td>is                                                                            </td><td><span style=white-space:pre-wrap>teacher                               </span></td></tr>\n",
       "\t<tr><th scope=row>31</th><td>15.55                                                                         </td><td>when                                                                          </td><td>failures                                                                      </td><td>is                                                                            </td><td><span style=white-space:pre-wrap>0          </span>                           </td><td>                                                                              </td><td><span style=white-space:pre-wrap>        </span>                              </td><td><span style=white-space:pre-wrap>  </span>                                    </td><td>                                                                              </td><td>&amp;                                                                         </td><td>...                                                                           </td><td><span style=white-space:pre-wrap>  </span>                                    </td><td><span style=white-space:pre-wrap>                       </span>               </td><td>                                                                              </td><td><span style=white-space:pre-wrap>        </span>                              </td><td><span style=white-space:pre-wrap>  </span>                                    </td><td><span style=white-space:pre-wrap>           </span>                           </td><td>                                                                              </td><td><span style=white-space:pre-wrap>    </span>                                  </td><td><span style=white-space:pre-wrap>  </span>                                    </td><td><span style=white-space:pre-wrap>                                      </span></td></tr>\n",
       "</tbody>\n",
       "</table>\n"
      ],
      "text/latex": [
       "\\begin{tabular}{r|lllllllllllllllllllllllllllllllll}\n",
       "  & G3 &  & .1 & .2 & .3 & .4 & .5 & .6 & .7 & .8 & ... &  & .1 & .2 & .3 & .4 & .5 & .6 & .7 & .8 & .9\\\\\n",
       "\\hline\n",
       "\t8 &  0.58                                  & when                                   & failures                               & is                                     & 1 or 2 or 3                            & \\&                                    & absences                               & <                                      & 1                                      &                                        & ...                                    &                                        &                                        & \\&                                    & freetime                               & is                                     & 2 or 3                                 &                                        &                                        &                                        &                                       \\\\\n",
       "\t9 &  4.67                                  & when                                   & failures                               & is                                     & 1 or 2 or 3                            & \\&                                    & absences                               & <                                      & 1                                      &                                        & ...                                    &                                        &                                        & \\&                                    & freetime                               & is                                     & 1 or 4 or 5                            &                                        &                                        &                                        &                                       \\\\\n",
       "\t48 &  6.20                                  & when                                   & failures                               & is                                     & 0                                      & \\&                                    & absences                               & <                                      & 1                                      & \\&                                    & ...                                    & is                                     & course or home or other                &                                        &                                        &                                        &                                        &                                        &                                        &                                        &                                       \\\\\n",
       "\t26 &  9.07                                  & when                                   & failures                               & is                                     & 0                                      & \\&                                    & absences                               & >=                                     & 1                                      & \\&                                    & ...                                    &                                        &                                        &                                        &                                        &                                        &                                        &                                        &                                        &                                        &                                       \\\\\n",
       "\t5 &  9.39                                  & when                                   & failures                               & is                                     & 1 or 2 or 3                            & \\&                                    & absences                               & >=                                     & 1                                      &                                        & ...                                    &                                        &                                        &                                        &                                        &                                        &                                        &                                        &                                        &                                        &                                       \\\\\n",
       "\t14 &  9.56                                  & when                                   & failures                               & is                                     & 0                                      &                                        &                                        &                                        &                                        & \\&                                    & ...                                    &                                        &                                        &                                        &                                        &                                        &                                        &                                        &                                        &                                        &                                       \\\\\n",
       "\t49 & 10.00                                  & when                                   & failures                               & is                                     & 0                                      & \\&                                    & absences                               & <                                      & 1                                      & \\&                                    & ...                                    & is                                     & course or home or other                &                                        &                                        &                                        &                                        &                                        &                                        &                                        &                                       \\\\\n",
       "\t54 & 11.42                                    & when                                     & failures                                 & is                                       & 0                                        & \\&                                      & absences                                 & >=                                       & 1                                        & \\&                                      & ...                                      &                                          &                                          &                                          &                                          &                                          &                                          & \\&                                      & Fjob                                     & is                                       & at\\_home or health or other or services\\\\\n",
       "\t30 & 12.59                                  & when                                   & failures                               & is                                     & 0                                      &                                        &                                        &                                        &                                        & \\&                                    & ...                                    &                                        &                                        &                                        &                                        &                                        &                                        &                                        &                                        &                                        &                                       \\\\\n",
       "\t25 & 13.22                                  & when                                   & failures                               & is                                     & 0                                      & \\&                                    & absences                               & <                                      & 1                                      & \\&                                    & ...                                    & is                                     & reputation                             &                                        &                                        &                                        &                                        &                                        &                                        &                                        &                                       \\\\\n",
       "\t55 & 14.57                                  & when                                   & failures                               & is                                     & 0                                      & \\&                                    & absences                               & >=                                     & 1                                      & \\&                                    & ...                                    &                                        &                                        &                                        &                                        &                                        &                                        & \\&                                    & Fjob                                   & is                                     & teacher                               \\\\\n",
       "\t31 & 15.55                                  & when                                   & failures                               & is                                     & 0                                      &                                        &                                        &                                        &                                        & \\&                                    & ...                                    &                                        &                                        &                                        &                                        &                                        &                                        &                                        &                                        &                                        &                                       \\\\\n",
       "\\end{tabular}\n"
      ],
      "text/markdown": [
       "\n",
       "| <!--/--> | G3 |  | .1 | .2 | .3 | .4 | .5 | .6 | .7 | .8 | ... |  | .1 | .2 | .3 | .4 | .5 | .6 | .7 | .8 | .9 |\n",
       "|---|---|---|---|---|---|---|---|---|---|---|---|---|---|---|---|---|---|---|---|---|---|\n",
       "| 8 |  0.58                                  | when                                   | failures                               | is                                     | 1 or 2 or 3                            | &                                      | absences                               | <                                      | 1                                      |                                        | ...                                    |                                        |                                        | &                                      | freetime                               | is                                     | 2 or 3                                 |                                        |                                        |                                        |                                        |\n",
       "| 9 |  4.67                                  | when                                   | failures                               | is                                     | 1 or 2 or 3                            | &                                      | absences                               | <                                      | 1                                      |                                        | ...                                    |                                        |                                        | &                                      | freetime                               | is                                     | 1 or 4 or 5                            |                                        |                                        |                                        |                                        |\n",
       "| 48 |  6.20                                  | when                                   | failures                               | is                                     | 0                                      | &                                      | absences                               | <                                      | 1                                      | &                                      | ...                                    | is                                     | course or home or other                |                                        |                                        |                                        |                                        |                                        |                                        |                                        |                                        |\n",
       "| 26 |  9.07                                  | when                                   | failures                               | is                                     | 0                                      | &                                      | absences                               | >=                                     | 1                                      | &                                      | ...                                    |                                        |                                        |                                        |                                        |                                        |                                        |                                        |                                        |                                        |                                        |\n",
       "| 5 |  9.39                                  | when                                   | failures                               | is                                     | 1 or 2 or 3                            | &                                      | absences                               | >=                                     | 1                                      |                                        | ...                                    |                                        |                                        |                                        |                                        |                                        |                                        |                                        |                                        |                                        |                                        |\n",
       "| 14 |  9.56                                  | when                                   | failures                               | is                                     | 0                                      |                                        |                                        |                                        |                                        | &                                      | ...                                    |                                        |                                        |                                        |                                        |                                        |                                        |                                        |                                        |                                        |                                        |\n",
       "| 49 | 10.00                                  | when                                   | failures                               | is                                     | 0                                      | &                                      | absences                               | <                                      | 1                                      | &                                      | ...                                    | is                                     | course or home or other                |                                        |                                        |                                        |                                        |                                        |                                        |                                        |                                        |\n",
       "| 54 | 11.42                                  | when                                   | failures                               | is                                     | 0                                      | &                                      | absences                               | >=                                     | 1                                      | &                                      | ...                                    |                                        |                                        |                                        |                                        |                                        |                                        | &                                      | Fjob                                   | is                                     | at_home or health or other or services |\n",
       "| 30 | 12.59                                  | when                                   | failures                               | is                                     | 0                                      |                                        |                                        |                                        |                                        | &                                      | ...                                    |                                        |                                        |                                        |                                        |                                        |                                        |                                        |                                        |                                        |                                        |\n",
       "| 25 | 13.22                                  | when                                   | failures                               | is                                     | 0                                      | &                                      | absences                               | <                                      | 1                                      | &                                      | ...                                    | is                                     | reputation                             |                                        |                                        |                                        |                                        |                                        |                                        |                                        |                                        |\n",
       "| 55 | 14.57                                  | when                                   | failures                               | is                                     | 0                                      | &                                      | absences                               | >=                                     | 1                                      | &                                      | ...                                    |                                        |                                        |                                        |                                        |                                        |                                        | &                                      | Fjob                                   | is                                     | teacher                                |\n",
       "| 31 | 15.55                                  | when                                   | failures                               | is                                     | 0                                      |                                        |                                        |                                        |                                        | &                                      | ...                                    |                                        |                                        |                                        |                                        |                                        |                                        |                                        |                                        |                                        |                                        |\n",
       "\n"
      ],
      "text/plain": [
       "   G3         .1       .2 .3          .4 .5       .6 .7 .8 ...   \n",
       "8   0.58 when failures is 1 or 2 or 3 &  absences <  1     ...   \n",
       "9   4.67 when failures is 1 or 2 or 3 &  absences <  1     ...   \n",
       "48  6.20 when failures is 0           &  absences <  1  &  ... is\n",
       "26  9.07 when failures is 0           &  absences >= 1  &  ...   \n",
       "5   9.39 when failures is 1 or 2 or 3 &  absences >= 1     ...   \n",
       "14  9.56 when failures is 0                             &  ...   \n",
       "49 10.00 when failures is 0           &  absences <  1  &  ... is\n",
       "54 11.42 when failures is 0           &  absences >= 1  &  ...   \n",
       "30 12.59 when failures is 0                             &  ...   \n",
       "25 13.22 when failures is 0           &  absences <  1  &  ... is\n",
       "55 14.57 when failures is 0           &  absences >= 1  &  ...   \n",
       "31 15.55 when failures is 0                             &  ...   \n",
       "   .1                      .2 .3       .4 .5          .6 .7   .8\n",
       "8                          &  freetime is 2 or 3                \n",
       "9                          &  freetime is 1 or 4 or 5           \n",
       "48 course or home or other                                      \n",
       "26                                                              \n",
       "5                                                               \n",
       "14                                                              \n",
       "49 course or home or other                                      \n",
       "54                                                    &  Fjob is\n",
       "30                                                              \n",
       "25 reputation                                                   \n",
       "55                                                    &  Fjob is\n",
       "31                                                              \n",
       "   .9                                    \n",
       "8                                        \n",
       "9                                        \n",
       "48                                       \n",
       "26                                       \n",
       "5                                        \n",
       "14                                       \n",
       "49                                       \n",
       "54 at_home or health or other or services\n",
       "30                                       \n",
       "25                                       \n",
       "55 teacher                               \n",
       "31                                       "
      ]
     },
     "metadata": {},
     "output_type": "display_data"
    }
   ],
   "source": [
    "rpart.rules(reg.tree(m.train))"
   ]
  },
  {
   "cell_type": "markdown",
   "metadata": {
    "Collapsed": "false"
   },
   "source": [
    "•\tAverage mathematics score is 10.\n",
    "\n",
    "•\t7% of the students scored 2.2 on average if their failures are more than 0 and have no absences. \n",
    "\n",
    "•\t14% of the students score 9.3 on average if they fail once or multiple times and are absent more than once.\n",
    "\n",
    "•\t79% of the students scored 11 on average if they do not fail the subject at all.\n",
    "\n",
    "\n",
    "The regression tree is more complex for Portuguese grades. They are predicted by weekday alcohol consumption (Dalc), father’s education (Fedu), weekend alcohol consumption (Walc) and if school supplementation is provided (schoolsup).\n",
    "48% of the students scored 13 on average if they are not from ‘school=MS’ and have no school supplementation (schoolsup = no).\n"
   ]
  },
  {
   "cell_type": "markdown",
   "metadata": {
    "Collapsed": "false"
   },
   "source": [
    "## Random forest\n",
    "\n",
    "The Random Forest constructs multiple decision trees randomly to predict the final grade, G3. A random subset of predictors is chosen from the overall set of predictors. This algorithm does not rely on significant predictors but allows the predictors in the random subset to be the splitting criteria which result in a lowered variability of the grown tree. The importance of each predictor (variable importance) can be ranked based on how useful they are in constructing the multiple decision trees. \n",
    "\n",
    "‘failures’ is ranked at the top for both subjects. Similarly, the initial regression tree sets the starting decision based on the number of failures. This re-affirms the usefulness of failures as a predictor in both cases. \n"
   ]
  },
  {
   "cell_type": "code",
   "execution_count": 54,
   "metadata": {
    "Collapsed": "false"
   },
   "outputs": [],
   "source": [
    "#### Random forest ####\n",
    "ranfor = function(train){ # ranfor is randomforest\n",
    "    rf = randomForest(\n",
    "        G3~., \n",
    "        data=train, \n",
    "        mtry=dim(train)[2]/3, \n",
    "        importance=TRUE) # mtry=p/3\n",
    "    return(rf)\n",
    "}"
   ]
  },
  {
   "cell_type": "code",
   "execution_count": 55,
   "metadata": {
    "Collapsed": "false"
   },
   "outputs": [
    {
     "data": {
      "text/html": [
       "4.04"
      ],
      "text/latex": [
       "4.04"
      ],
      "text/markdown": [
       "4.04"
      ],
      "text/plain": [
       "[1] 4.04"
      ]
     },
     "metadata": {},
     "output_type": "display_data"
    },
    {
     "data": {
      "text/html": [
       "2.77"
      ],
      "text/latex": [
       "2.77"
      ],
      "text/markdown": [
       "2.77"
      ],
      "text/plain": [
       "[1] 2.77"
      ]
     },
     "metadata": {},
     "output_type": "display_data"
    }
   ],
   "source": [
    "rf.rmse = function(rf=ranfor, test){\n",
    "    pred = predict(rf, newdata=test)\n",
    "    rmse = RMSE(test$G3 - pred)\n",
    "    return(rmse)\n",
    "}\n",
    "#  Method\n",
    "rf.rmse(rf=ranfor(train=m.train), test=m.test) # rmse random forest for math\n",
    "# 4.09 \n",
    "\n",
    "rf.rmse(rf=ranfor(train=p.train), test=p.test) # rmse random forest for port\n",
    "# 2.8"
   ]
  },
  {
   "cell_type": "code",
   "execution_count": 56,
   "metadata": {
    "Collapsed": "false"
   },
   "outputs": [
    {
     "data": {
      "image/png": "[encoded data removed]",
      "text/plain": [
       "plot without title"
      ]
     },
     "metadata": {},
     "output_type": "display_data"
    },
    {
     "data": {
      "image/png": "[encoded data removed]",
      "text/plain": [
       "plot without title"
      ]
     },
     "metadata": {},
     "output_type": "display_data"
    }
   ],
   "source": [
    "# variable importance plot\n",
    "imp.plot = function(rf){\n",
    "    x = data.frame(tail(sort(importance(rf)[,2])))\n",
    "    colnames(x) = c('importance')\n",
    "    \n",
    "    # Barplot\n",
    "    ggplot(x, aes(x=reorder(rownames(x), importance), y=importance)) + \n",
    "        geom_bar(stat = \"identity\") + labs(x = 'Variables') +\n",
    "        coord_flip()\n",
    "}\n",
    "\n",
    "# Methods\n",
    "imp.plot(ranfor(m.train))\n",
    "imp.plot(ranfor(p.train))"
   ]
  },
  {
   "cell_type": "markdown",
   "metadata": {
    "Collapsed": "false"
   },
   "source": [
    "## Results"
   ]
  },
  {
   "cell_type": "code",
   "execution_count": 60,
   "metadata": {
    "Collapsed": "false"
   },
   "outputs": [],
   "source": [
    "#### Record all details ####\n",
    "# errors for math\n",
    "records.math = data.frame(matrix(NA, nrow=7, ncol=1)) # math\n",
    "colnames(records.math) = c('Test RMSE')\n",
    "rownames(records.math)=c('Linear Regression (Full Model)',\n",
    "                     'Forward Selection',\n",
    "                      'Backward Selection', \n",
    "                      'Lasso',\n",
    "                      'Ridge',\n",
    "                      'Regression Tree',\n",
    "                      'Random Forest') \n",
    "\n",
    "# record errors for port\n",
    "records.port = data.frame(matrix(NA, nrow=7, ncol=1))\n",
    "colnames(records.port)=c('Test RMSE')\n",
    "rownames(records.port)=c('Linear Regression (Full model)',\n",
    "                     'Forward Selection',\n",
    "                      'Backward Selection',  \n",
    "                      'Lasso',\n",
    "                      'Ridge',\n",
    "                      'Regression Tree',\n",
    "                      'Random Forest') \n",
    "\n",
    "#:::::::::::::::::::::::::::::::::::::::::::::::::::::::::::::::::::::::::::::::::::::::::::::::::\n",
    "##### all functions and methods to store the results ####\n",
    "store = function(train, test, records){\n",
    "    records[1,1] = lin.reg(train, test)\n",
    "    slt.forward = stepwise(train, test, method='forward')\n",
    "    fwd = step.min.test(step.test(test, slt=slt.forward))\n",
    "    records[2,1]=fwd\n",
    "    slt.backward = stepwise(train, test, method='backward')\n",
    "    bwd = step.min.test(step.test(test, slt=slt.backward))\n",
    "    records[3,1]=bwd\n",
    "    records[4,1]=regularizer(train, test, alpha =1)[1]\n",
    "    records[5,1]=regularizer(train, test, alpha =0)[1]\n",
    "    records[6,1]=reg.tree.rmse(prune.rtree=reg.tree.prune(reg.tree(train)), test)\n",
    "    records[7,1]=rf.rmse(rf=ranfor(train), test)\n",
    "    return(records)\n",
    "}"
   ]
  },
  {
   "cell_type": "code",
   "execution_count": 62,
   "metadata": {
    "Collapsed": "false"
   },
   "outputs": [
    {
     "data": {
      "text/html": [
       "<table>\n",
       "<thead><tr><th></th><th scope=col>Test.RMSE</th></tr></thead>\n",
       "<tbody>\n",
       "\t<tr><th scope=row>Linear Regression (Full Model)</th><td>4.73</td></tr>\n",
       "\t<tr><th scope=row>Forward Selection</th><td>4.47</td></tr>\n",
       "\t<tr><th scope=row>Backward Selection</th><td>4.38</td></tr>\n",
       "\t<tr><th scope=row>Lasso</th><td>4.41</td></tr>\n",
       "\t<tr><th scope=row>Ridge</th><td>4.40</td></tr>\n",
       "\t<tr><th scope=row>Regression Tree</th><td>4.25</td></tr>\n",
       "\t<tr><th scope=row>Random Forest</th><td>4.01</td></tr>\n",
       "</tbody>\n",
       "</table>\n"
      ],
      "text/latex": [
       "\\begin{tabular}{r|l}\n",
       "  & Test.RMSE\\\\\n",
       "\\hline\n",
       "\tLinear Regression (Full Model) & 4.73\\\\\n",
       "\tForward Selection & 4.47\\\\\n",
       "\tBackward Selection & 4.38\\\\\n",
       "\tLasso & 4.41\\\\\n",
       "\tRidge & 4.40\\\\\n",
       "\tRegression Tree & 4.25\\\\\n",
       "\tRandom Forest & 4.01\\\\\n",
       "\\end{tabular}\n"
      ],
      "text/markdown": [
       "\n",
       "| <!--/--> | Test.RMSE |\n",
       "|---|---|\n",
       "| Linear Regression (Full Model) | 4.73 |\n",
       "| Forward Selection | 4.47 |\n",
       "| Backward Selection | 4.38 |\n",
       "| Lasso | 4.41 |\n",
       "| Ridge | 4.40 |\n",
       "| Regression Tree | 4.25 |\n",
       "| Random Forest | 4.01 |\n",
       "\n"
      ],
      "text/plain": [
       "                               Test.RMSE\n",
       "Linear Regression (Full Model) 4.73     \n",
       "Forward Selection              4.47     \n",
       "Backward Selection             4.38     \n",
       "Lasso                          4.41     \n",
       "Ridge                          4.40     \n",
       "Regression Tree                4.25     \n",
       "Random Forest                  4.01     "
      ]
     },
     "metadata": {},
     "output_type": "display_data"
    },
    {
     "data": {
      "text/html": [
       "<table>\n",
       "<thead><tr><th></th><th scope=col>Test.RMSE</th></tr></thead>\n",
       "<tbody>\n",
       "\t<tr><th scope=row>Linear Regression (Full model)</th><td>2.91</td></tr>\n",
       "\t<tr><th scope=row>Forward Selection</th><td>2.77</td></tr>\n",
       "\t<tr><th scope=row>Backward Selection</th><td>2.74</td></tr>\n",
       "\t<tr><th scope=row>Lasso</th><td>2.77</td></tr>\n",
       "\t<tr><th scope=row>Ridge</th><td>2.77</td></tr>\n",
       "\t<tr><th scope=row>Regression Tree</th><td>2.92</td></tr>\n",
       "\t<tr><th scope=row>Random Forest</th><td>2.79</td></tr>\n",
       "</tbody>\n",
       "</table>\n"
      ],
      "text/latex": [
       "\\begin{tabular}{r|l}\n",
       "  & Test.RMSE\\\\\n",
       "\\hline\n",
       "\tLinear Regression (Full model) & 2.91\\\\\n",
       "\tForward Selection & 2.77\\\\\n",
       "\tBackward Selection & 2.74\\\\\n",
       "\tLasso & 2.77\\\\\n",
       "\tRidge & 2.77\\\\\n",
       "\tRegression Tree & 2.92\\\\\n",
       "\tRandom Forest & 2.79\\\\\n",
       "\\end{tabular}\n"
      ],
      "text/markdown": [
       "\n",
       "| <!--/--> | Test.RMSE |\n",
       "|---|---|\n",
       "| Linear Regression (Full model) | 2.91 |\n",
       "| Forward Selection | 2.77 |\n",
       "| Backward Selection | 2.74 |\n",
       "| Lasso | 2.77 |\n",
       "| Ridge | 2.77 |\n",
       "| Regression Tree | 2.92 |\n",
       "| Random Forest | 2.79 |\n",
       "\n"
      ],
      "text/plain": [
       "                               Test.RMSE\n",
       "Linear Regression (Full model) 2.91     \n",
       "Forward Selection              2.77     \n",
       "Backward Selection             2.74     \n",
       "Lasso                          2.77     \n",
       "Ridge                          2.77     \n",
       "Regression Tree                2.92     \n",
       "Random Forest                  2.79     "
      ]
     },
     "metadata": {},
     "output_type": "display_data"
    }
   ],
   "source": [
    "math.results = data.frame(store(train=m.train, m.test, records=records.math))\n",
    "port.results = data.frame(store(train=p.train, p.test, records=records.port)) \n",
    "\n",
    "math.results\n",
    "port.results"
   ]
  },
  {
   "cell_type": "markdown",
   "metadata": {
    "Collapsed": "false"
   },
   "source": [
    "The Random forest algorithm (RMSE = 4.06) excels in predicting Mathematics grades while the Backwards Stepwise model (RMSE = 2.74) is the best in predicting Portuguese grades. \n",
    "Backwards stepwise model for Portuguese uses more predictors than the forward stepwise model and its RMSE only differs by a small difference of 0.03. \n",
    "\n",
    "The forward stepwise can explain the Portuguese grades with significantly lesser predictors. The variability between the models’ RMSE in predicting Portuguese grades is small as compared to Mathematics grades.\n",
    "\n",
    "\n",
    "‘failures’ along with parental roles in the household (Mjob, Medu, Fjob, Fedu) are found to be influential on the final grades. Students who failed more than once, find it difficult to attain a higher grade in the final semester. The linear regression has the best interpretability whereby the predicted grades are determined by a linear combination of all the predictors however it is prone to overfitting. \n"
   ]
  }
 ],
 "metadata": {
  "kernelspec": {
   "display_name": "R",
   "language": "R",
   "name": "ir"
  },
  "language_info": {
   "codemirror_mode": "r",
   "file_extension": ".r",
   "mimetype": "text/x-r-source",
   "name": "R",
   "pygments_lexer": "r",
   "version": "3.6.1"
  }
 },
 "nbformat": 4,
 "nbformat_minor": 4
}
